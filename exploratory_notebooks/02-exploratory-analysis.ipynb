{
 "cells": [
  {
   "cell_type": "code",
   "execution_count": 1,
   "id": "6765c445",
   "metadata": {},
   "outputs": [],
   "source": [
    "#!pip install tensorflow\n",
    "import os\n",
    "import tensorflow as tf"
   ]
  },
  {
   "cell_type": "code",
   "execution_count": 2,
   "id": "0a76befb",
   "metadata": {},
   "outputs": [],
   "source": [
    "import numpy as np"
   ]
  },
  {
   "cell_type": "markdown",
   "id": "27648e42",
   "metadata": {},
   "source": [
    "# Exploratory analysis"
   ]
  },
  {
   "cell_type": "code",
   "execution_count": 3,
   "id": "eb6627ad",
   "metadata": {
    "scrolled": true
   },
   "outputs": [
    {
     "name": "stdout",
     "output_type": "stream",
     "text": [
      "01-import-data-from-S3-bucket.ipynb  LICENSE       requirements.txt\r\n",
      "02-exploratory-analysis.ipynb        main.ipynb    \u001b[0m\u001b[01;34mtraining\u001b[0m/\r\n",
      "const_vals.py                        \u001b[01;34mmodels\u001b[0m/       train.ipynb\r\n",
      "\u001b[01;34mdata\u001b[0m/                                \u001b[01;34mpredictions\u001b[0m/  Untitled.ipynb\r\n",
      "ensemble.ipynb                       \u001b[01;34m__pycache__\u001b[0m/\r\n",
      "\u001b[01;34mevaluate\u001b[0m/                            README.md\r\n"
     ]
    }
   ],
   "source": [
    "%ls"
   ]
  },
  {
   "cell_type": "markdown",
   "id": "f6493f28",
   "metadata": {},
   "source": [
    "## Loading data"
   ]
  },
  {
   "cell_type": "code",
   "execution_count": 7,
   "id": "2fc74f46",
   "metadata": {},
   "outputs": [],
   "source": [
    "import const_vals"
   ]
  },
  {
   "cell_type": "code",
   "execution_count": 16,
   "id": "3bad1698",
   "metadata": {},
   "outputs": [
    {
     "name": "stdout",
     "output_type": "stream",
     "text": [
      "['#!/usr/bin/env python3\\n', '# -*- coding: utf-8 -*-\\n', '\"\"\"\\n', 'Created on Thu Nov 18 16:36:45 2021\\n', '\\n', '@author: janajankova\\n', '\"\"\"\\n', '\\n', 'import tensorflow as tf\\n', '#import const_vals\\n', '\\n', '\\n', 'def get_df():\\n', '    \\n', '    IMG_WIDTH = 150\\n', '    IMG_HEIGHT = 150\\n', '\\n', '    BATCH_SIZE = 32\\n', '    \\n', \"    data_dir_train = 'data/processed/train/'\\n\", \"    data_dir_test = 'data/processed/test/'\\n\", '\\n', '    train_ds = tf.keras.preprocessing.image_dataset_from_directory(\\n', '        data_dir_train,\\n', '        labels = \"inferred\",\\n', '        validation_split = 0.0,\\n', '        #shuffle = True,\\n', '        seed = 42,\\n', '        #subset = \"training\",\\n', '        batch_size = BATCH_SIZE,\\n', '        image_size = (IMG_WIDTH, IMG_HEIGHT)\\n', '    )\\n', '    \\n', '    val_ds = tf.keras.preprocessing.image_dataset_from_directory(\\n', '        data_dir_test,\\n', '        labels = \"inferred\",\\n', '        validation_split = 0.0,\\n', '        shuffle = False,\\n', '        seed = 42, \\n', '        batch_size = BATCH_SIZE,\\n', '        image_size = (IMG_WIDTH, IMG_HEIGHT)\\n', '    )\\n', '    \\n', '    return train_ds, val_ds\\n', '    \\n', '    ']\n"
     ]
    }
   ],
   "source": [
    "with open('dataset.py') as f:\n",
    "    print(f.readlines())"
   ]
  },
  {
   "cell_type": "code",
   "execution_count": 10,
   "id": "2f2d006b",
   "metadata": {},
   "outputs": [],
   "source": [
    "IMG_WIDTH = 150\n",
    "IMG_HEIGHT = 150\n",
    "\n",
    "BATCH_SIZE = 32"
   ]
  },
  {
   "cell_type": "code",
   "execution_count": 11,
   "id": "4e7de608",
   "metadata": {},
   "outputs": [
    {
     "name": "stdout",
     "output_type": "stream",
     "text": [
      "Found 13656 files belonging to 2 classes.\n",
      "Found 1537 files belonging to 2 classes.\n"
     ]
    }
   ],
   "source": [
    "data_dir_train = 'data/processed/train/'\n",
    "data_dir_test = 'data/processed/test/'\n",
    "\n",
    "train_ds = tf.keras.preprocessing.image_dataset_from_directory(\n",
    "    data_dir_train,\n",
    "    labels = \"inferred\",\n",
    "    validation_split = 0.0,\n",
    "    #shuffle = True,\n",
    "    seed = 42,\n",
    "    #subset = \"training\",\n",
    "    batch_size = BATCH_SIZE,\n",
    "    image_size = (IMG_WIDTH, IMG_HEIGHT)\n",
    ")\n",
    "\n",
    "val_ds = tf.keras.preprocessing.image_dataset_from_directory(\n",
    "    data_dir_test,\n",
    "    labels = \"inferred\",\n",
    "    validation_split = 0.0,\n",
    "    shuffle = False,\n",
    "    seed = 42, \n",
    "    batch_size = BATCH_SIZE,\n",
    "    image_size = (IMG_WIDTH, IMG_HEIGHT)\n",
    ")"
   ]
  },
  {
   "cell_type": "code",
   "execution_count": 12,
   "id": "76c7caf3",
   "metadata": {},
   "outputs": [
    {
     "name": "stdout",
     "output_type": "stream",
     "text": [
      "13657\n"
     ]
    },
    {
     "data": {
      "text/plain": [
       "3834.0"
      ]
     },
     "execution_count": 12,
     "metadata": {},
     "output_type": "execute_result"
    }
   ],
   "source": [
    "\n",
    "lst_files = os.listdir('data/processed/train/benign')\n",
    "num_benign = len(lst_files)\n",
    "lst_files_malignant = os.listdir('data/processed/train/malignant')\n",
    "num_malignant = len(lst_files_malignant)\n",
    "lst_files.extend(lst_files_malignant)\n",
    "\n",
    "print(len(lst_files))\n",
    "filenames = tf.constant(lst_files)\n",
    "\n",
    "num_files = len(lst_files)\n",
    "num_files\n",
    "\n",
    "labels = tf.constant(np.append(np.zeros(num_benign), np.ones(num_malignant)))\n",
    "np.sum(labels)\n"
   ]
  },
  {
   "cell_type": "code",
   "execution_count": 13,
   "id": "1e35074b",
   "metadata": {
    "scrolled": true
   },
   "outputs": [
    {
     "name": "stderr",
     "output_type": "stream",
     "text": [
      "100%|█████████▉| 426/427 [00:16<00:00, 25.54it/s]\n"
     ]
    }
   ],
   "source": [
    "\n",
    "import math\n",
    "from tqdm import tqdm\n",
    "\n",
    "test_labels = np.array([])\n",
    "num_batches = 0\n",
    "#val_examples = 1537 \n",
    "examples = 13657\n",
    "    \n",
    "for batch, y in tqdm(train_ds):\n",
    "    test_labels = np.append(test_labels, y)\n",
    "    num_batches += 1\n",
    "    if num_batches == math.ceil(examples / BATCH_SIZE):\n",
    "        break"
   ]
  },
  {
   "cell_type": "code",
   "execution_count": 14,
   "id": "5b2be4ac",
   "metadata": {},
   "outputs": [
    {
     "data": {
      "text/plain": [
       "3834.0"
      ]
     },
     "execution_count": 14,
     "metadata": {},
     "output_type": "execute_result"
    }
   ],
   "source": [
    "np.sum(test_labels)"
   ]
  },
  {
   "cell_type": "code",
   "execution_count": null,
   "id": "e54a7a54",
   "metadata": {},
   "outputs": [],
   "source": []
  },
  {
   "cell_type": "code",
   "execution_count": null,
   "id": "65f7af60",
   "metadata": {},
   "outputs": [],
   "source": []
  },
  {
   "cell_type": "code",
   "execution_count": null,
   "id": "1e47a9e6",
   "metadata": {},
   "outputs": [],
   "source": []
  }
 ],
 "metadata": {
  "kernelspec": {
   "display_name": "conda_python3",
   "language": "python",
   "name": "conda_python3"
  },
  "language_info": {
   "codemirror_mode": {
    "name": "ipython",
    "version": 3
   },
   "file_extension": ".py",
   "mimetype": "text/x-python",
   "name": "python",
   "nbconvert_exporter": "python",
   "pygments_lexer": "ipython3",
   "version": "3.6.13"
  }
 },
 "nbformat": 4,
 "nbformat_minor": 5
}
