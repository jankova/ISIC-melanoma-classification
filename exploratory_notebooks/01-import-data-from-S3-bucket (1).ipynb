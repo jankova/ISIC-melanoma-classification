{
 "cells": [
  {
   "cell_type": "markdown",
   "id": "5ea137aa",
   "metadata": {},
   "source": [
    "# Importing data from S3 bucket"
   ]
  },
  {
   "cell_type": "code",
   "execution_count": 1,
   "id": "4ef18711",
   "metadata": {},
   "outputs": [],
   "source": [
    "import os\n",
    "import boto3\n",
    "s3 = boto3.resource('s3') # assumes credentials & configuration are handled outside python in .aws directory or environment variables\n",
    "\n",
    "def download_s3_folder(bucket_name, s3_folder, local_dir=None):\n",
    "    \"\"\"\n",
    "    Download the contents of a folder directory\n",
    "    Args:\n",
    "        bucket_name: the name of the s3 bucket\n",
    "        s3_folder: the folder path in the s3 bucket\n",
    "        local_dir: a relative or absolute directory path in the local file system\n",
    "    \"\"\"\n",
    "    bucket = s3.Bucket(bucket_name)\n",
    "    for obj in bucket.objects.filter(Prefix=s3_folder):\n",
    "        target = obj.key if local_dir is None \\\n",
    "            else os.path.join(local_dir, os.path.relpath(obj.key, s3_folder))\n",
    "        if not os.path.exists(os.path.dirname(target)):\n",
    "            os.makedirs(os.path.dirname(target))\n",
    "        if obj.key[-1] == '/':\n",
    "            continue\n",
    "        bucket.download_file(obj.key, target)"
   ]
  },
  {
   "cell_type": "code",
   "execution_count": 2,
   "id": "89960a39",
   "metadata": {},
   "outputs": [],
   "source": [
    "download_s3_folder('skin-lesion-data', 'processed')"
   ]
  },
  {
   "cell_type": "code",
   "execution_count": 3,
   "id": "ec603b19",
   "metadata": {},
   "outputs": [],
   "source": [
    "download_s3_folder('skin-lesion-data', 'new_data_malignant')"
   ]
  },
  {
   "cell_type": "code",
   "execution_count": null,
   "id": "607ac69e",
   "metadata": {},
   "outputs": [],
   "source": []
  }
 ],
 "metadata": {
  "kernelspec": {
   "display_name": "conda_python3",
   "language": "python",
   "name": "conda_python3"
  },
  "language_info": {
   "codemirror_mode": {
    "name": "ipython",
    "version": 3
   },
   "file_extension": ".py",
   "mimetype": "text/x-python",
   "name": "python",
   "nbconvert_exporter": "python",
   "pygments_lexer": "ipython3",
   "version": "3.6.13"
  }
 },
 "nbformat": 4,
 "nbformat_minor": 5
}
