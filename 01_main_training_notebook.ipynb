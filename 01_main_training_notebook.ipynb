{
 "cells": [
  {
   "cell_type": "markdown",
   "id": "fead797f",
   "metadata": {},
   "source": [
    "## Setup for AWS notebook -- upgrade tensorflow\n",
    "The AWS notebook conda_tensorflow2_p36 comes with Tensorflow 2.1.0. \n",
    "\n",
    "To get required functionality, upgrade to at least 2.3.0."
   ]
  },
  {
   "cell_type": "code",
   "execution_count": 2,
   "id": "d41b2943",
   "metadata": {},
   "outputs": [
    {
     "name": "stdout",
     "output_type": "stream",
     "text": [
      "Collecting tensorflow==2.3.0\n",
      "  Downloading tensorflow-2.3.0-cp36-cp36m-manylinux2010_x86_64.whl (320.4 MB)\n",
      "\u001b[K     |████████████████████████████    | 281.2 MB 76.4 MB/s eta 0:00:01     |██████████████████████▋         | 226.4 MB 72.6 MB/s eta 0:00:02"
     ]
    },
    {
     "name": "stderr",
     "output_type": "stream",
     "text": [
      "IOPub data rate exceeded.\n",
      "The notebook server will temporarily stop sending output\n",
      "to the client in order to avoid crashing it.\n",
      "To change this limit, set the config variable\n",
      "`--NotebookApp.iopub_data_rate_limit`.\n",
      "\n",
      "Current values:\n",
      "NotebookApp.iopub_data_rate_limit=1000000.0 (bytes/sec)\n",
      "NotebookApp.rate_limit_window=3.0 (secs)\n",
      "\n"
     ]
    },
    {
     "name": "stdout",
     "output_type": "stream",
     "text": [
      "\u001b[K     |████████████████████████████████| 320.4 MB 43 kB/s \n",
      "\u001b[?25hCollecting tensorboard<3,>=2.3.0\n",
      "  Downloading tensorboard-2.7.0-py3-none-any.whl (5.8 MB)\n",
      "\u001b[K     |████████████████████████████████| 5.8 MB 106.2 MB/s eta 0:00:01\n",
      "\u001b[?25hRequirement already satisfied: six>=1.12.0 in /home/ec2-user/anaconda3/envs/tensorflow2_p36/lib/python3.6/site-packages (from tensorflow==2.3.0) (1.16.0)\n",
      "Collecting scipy==1.4.1\n",
      "  Downloading scipy-1.4.1-cp36-cp36m-manylinux1_x86_64.whl (26.1 MB)\n",
      "\u001b[K     |████████████████████████████████| 26.1 MB 85.0 MB/s eta 0:00:01\n",
      "\u001b[?25hRequirement already satisfied: grpcio>=1.8.6 in /home/ec2-user/anaconda3/envs/tensorflow2_p36/lib/python3.6/site-packages (from tensorflow==2.3.0) (1.41.0)\n",
      "Requirement already satisfied: wrapt>=1.11.1 in /home/ec2-user/anaconda3/envs/tensorflow2_p36/lib/python3.6/site-packages (from tensorflow==2.3.0) (1.12.1)\n",
      "Requirement already satisfied: wheel>=0.26 in /home/ec2-user/anaconda3/envs/tensorflow2_p36/lib/python3.6/site-packages (from tensorflow==2.3.0) (0.36.2)\n",
      "Collecting tensorflow-estimator<2.4.0,>=2.3.0\n",
      "  Downloading tensorflow_estimator-2.3.0-py2.py3-none-any.whl (459 kB)\n",
      "\u001b[K     |████████████████████████████████| 459 kB 123.9 MB/s eta 0:00:01\n",
      "\u001b[?25hRequirement already satisfied: termcolor>=1.1.0 in /home/ec2-user/anaconda3/envs/tensorflow2_p36/lib/python3.6/site-packages (from tensorflow==2.3.0) (1.1.0)\n",
      "Requirement already satisfied: protobuf>=3.9.2 in /home/ec2-user/anaconda3/envs/tensorflow2_p36/lib/python3.6/site-packages (from tensorflow==2.3.0) (3.19.1)\n",
      "Requirement already satisfied: google-pasta>=0.1.8 in /home/ec2-user/anaconda3/envs/tensorflow2_p36/lib/python3.6/site-packages (from tensorflow==2.3.0) (0.2.0)\n",
      "Collecting numpy<1.19.0,>=1.16.0\n",
      "  Downloading numpy-1.18.5-cp36-cp36m-manylinux1_x86_64.whl (20.1 MB)\n",
      "\u001b[K     |████████████████████████████████| 20.1 MB 62.1 MB/s eta 0:00:01\n",
      "\u001b[?25hRequirement already satisfied: h5py<2.11.0,>=2.10.0 in /home/ec2-user/anaconda3/envs/tensorflow2_p36/lib/python3.6/site-packages (from tensorflow==2.3.0) (2.10.0)\n",
      "Requirement already satisfied: absl-py>=0.7.0 in /home/ec2-user/anaconda3/envs/tensorflow2_p36/lib/python3.6/site-packages (from tensorflow==2.3.0) (0.14.1)\n",
      "Requirement already satisfied: opt-einsum>=2.3.2 in /home/ec2-user/anaconda3/envs/tensorflow2_p36/lib/python3.6/site-packages (from tensorflow==2.3.0) (3.3.0)\n",
      "Collecting keras-preprocessing<1.2,>=1.1.1\n",
      "  Downloading Keras_Preprocessing-1.1.2-py2.py3-none-any.whl (42 kB)\n",
      "\u001b[K     |████████████████████████████████| 42 kB 2.5 MB/s s eta 0:00:01\n",
      "\u001b[?25hCollecting gast==0.3.3\n",
      "  Downloading gast-0.3.3-py2.py3-none-any.whl (9.7 kB)\n",
      "Collecting astunparse==1.6.3\n",
      "  Downloading astunparse-1.6.3-py2.py3-none-any.whl (12 kB)\n",
      "Requirement already satisfied: google-auth-oauthlib<0.5,>=0.4.1 in /home/ec2-user/anaconda3/envs/tensorflow2_p36/lib/python3.6/site-packages (from tensorboard<3,>=2.3.0->tensorflow==2.3.0) (0.4.6)\n",
      "Collecting tensorboard-plugin-wit>=1.6.0\n",
      "  Downloading tensorboard_plugin_wit-1.8.0-py3-none-any.whl (781 kB)\n",
      "\u001b[K     |████████████████████████████████| 781 kB 95.2 MB/s eta 0:00:01\n",
      "\u001b[?25hRequirement already satisfied: requests<3,>=2.21.0 in /home/ec2-user/anaconda3/envs/tensorflow2_p36/lib/python3.6/site-packages (from tensorboard<3,>=2.3.0->tensorflow==2.3.0) (2.26.0)\n",
      "Requirement already satisfied: setuptools>=41.0.0 in /home/ec2-user/anaconda3/envs/tensorflow2_p36/lib/python3.6/site-packages (from tensorboard<3,>=2.3.0->tensorflow==2.3.0) (58.5.3)\n",
      "Requirement already satisfied: google-auth<3,>=1.6.3 in /home/ec2-user/anaconda3/envs/tensorflow2_p36/lib/python3.6/site-packages (from tensorboard<3,>=2.3.0->tensorflow==2.3.0) (1.35.0)\n",
      "Requirement already satisfied: markdown>=2.6.8 in /home/ec2-user/anaconda3/envs/tensorflow2_p36/lib/python3.6/site-packages (from tensorboard<3,>=2.3.0->tensorflow==2.3.0) (3.3.4)\n",
      "Requirement already satisfied: werkzeug>=0.11.15 in /home/ec2-user/anaconda3/envs/tensorflow2_p36/lib/python3.6/site-packages (from tensorboard<3,>=2.3.0->tensorflow==2.3.0) (1.0.1)\n",
      "Collecting tensorboard-data-server<0.7.0,>=0.6.0\n",
      "  Downloading tensorboard_data_server-0.6.1-py3-none-manylinux2010_x86_64.whl (4.9 MB)\n",
      "\u001b[K     |████████████████████████████████| 4.9 MB 63.8 MB/s eta 0:00:01\n",
      "\u001b[?25hRequirement already satisfied: cachetools<5.0,>=2.0.0 in /home/ec2-user/anaconda3/envs/tensorflow2_p36/lib/python3.6/site-packages (from google-auth<3,>=1.6.3->tensorboard<3,>=2.3.0->tensorflow==2.3.0) (4.2.4)\n",
      "Requirement already satisfied: rsa<5,>=3.1.4 in /home/ec2-user/anaconda3/envs/tensorflow2_p36/lib/python3.6/site-packages (from google-auth<3,>=1.6.3->tensorboard<3,>=2.3.0->tensorflow==2.3.0) (4.7.2)\n",
      "Requirement already satisfied: pyasn1-modules>=0.2.1 in /home/ec2-user/anaconda3/envs/tensorflow2_p36/lib/python3.6/site-packages (from google-auth<3,>=1.6.3->tensorboard<3,>=2.3.0->tensorflow==2.3.0) (0.2.8)\n",
      "Requirement already satisfied: requests-oauthlib>=0.7.0 in /home/ec2-user/anaconda3/envs/tensorflow2_p36/lib/python3.6/site-packages (from google-auth-oauthlib<0.5,>=0.4.1->tensorboard<3,>=2.3.0->tensorflow==2.3.0) (1.3.0)\n",
      "Requirement already satisfied: importlib-metadata in /home/ec2-user/anaconda3/envs/tensorflow2_p36/lib/python3.6/site-packages (from markdown>=2.6.8->tensorboard<3,>=2.3.0->tensorflow==2.3.0) (4.8.2)\n",
      "Requirement already satisfied: pyasn1<0.5.0,>=0.4.6 in /home/ec2-user/anaconda3/envs/tensorflow2_p36/lib/python3.6/site-packages (from pyasn1-modules>=0.2.1->google-auth<3,>=1.6.3->tensorboard<3,>=2.3.0->tensorflow==2.3.0) (0.4.8)\n",
      "Requirement already satisfied: urllib3<1.27,>=1.21.1 in /home/ec2-user/anaconda3/envs/tensorflow2_p36/lib/python3.6/site-packages (from requests<3,>=2.21.0->tensorboard<3,>=2.3.0->tensorflow==2.3.0) (1.26.7)\n",
      "Requirement already satisfied: charset-normalizer~=2.0.0 in /home/ec2-user/anaconda3/envs/tensorflow2_p36/lib/python3.6/site-packages (from requests<3,>=2.21.0->tensorboard<3,>=2.3.0->tensorflow==2.3.0) (2.0.7)\n",
      "Requirement already satisfied: idna<4,>=2.5 in /home/ec2-user/anaconda3/envs/tensorflow2_p36/lib/python3.6/site-packages (from requests<3,>=2.21.0->tensorboard<3,>=2.3.0->tensorflow==2.3.0) (3.3)\n",
      "Requirement already satisfied: certifi>=2017.4.17 in /home/ec2-user/anaconda3/envs/tensorflow2_p36/lib/python3.6/site-packages (from requests<3,>=2.21.0->tensorboard<3,>=2.3.0->tensorflow==2.3.0) (2021.10.8)\n",
      "Requirement already satisfied: oauthlib>=3.0.0 in /home/ec2-user/anaconda3/envs/tensorflow2_p36/lib/python3.6/site-packages (from requests-oauthlib>=0.7.0->google-auth-oauthlib<0.5,>=0.4.1->tensorboard<3,>=2.3.0->tensorflow==2.3.0) (3.1.1)\n",
      "Requirement already satisfied: zipp>=0.5 in /home/ec2-user/anaconda3/envs/tensorflow2_p36/lib/python3.6/site-packages (from importlib-metadata->markdown>=2.6.8->tensorboard<3,>=2.3.0->tensorflow==2.3.0) (3.6.0)\n",
      "Requirement already satisfied: typing-extensions>=3.6.4 in /home/ec2-user/anaconda3/envs/tensorflow2_p36/lib/python3.6/site-packages (from importlib-metadata->markdown>=2.6.8->tensorboard<3,>=2.3.0->tensorflow==2.3.0) (3.10.0.2)\n",
      "Installing collected packages: tensorboard-plugin-wit, tensorboard-data-server, numpy, tensorflow-estimator, tensorboard, scipy, keras-preprocessing, gast, astunparse, tensorflow\n",
      "  Attempting uninstall: numpy\n",
      "    Found existing installation: numpy 1.19.5\n",
      "    Uninstalling numpy-1.19.5:\n",
      "      Successfully uninstalled numpy-1.19.5\n",
      "  Attempting uninstall: tensorflow-estimator\n",
      "    Found existing installation: tensorflow-estimator 2.1.0\n",
      "    Uninstalling tensorflow-estimator-2.1.0:\n",
      "      Successfully uninstalled tensorflow-estimator-2.1.0\n",
      "  Attempting uninstall: tensorboard\n",
      "    Found existing installation: tensorboard 2.1.1\n",
      "    Uninstalling tensorboard-2.1.1:\n",
      "      Successfully uninstalled tensorboard-2.1.1\n",
      "  Attempting uninstall: scipy\n",
      "    Found existing installation: scipy 1.5.3\n",
      "    Uninstalling scipy-1.5.3:\n",
      "      Successfully uninstalled scipy-1.5.3\n",
      "  Attempting uninstall: keras-preprocessing\n",
      "    Found existing installation: Keras-Preprocessing 1.1.0\n",
      "    Uninstalling Keras-Preprocessing-1.1.0:\n",
      "      Successfully uninstalled Keras-Preprocessing-1.1.0\n",
      "  Attempting uninstall: gast\n",
      "    Found existing installation: gast 0.2.2\n",
      "    Uninstalling gast-0.2.2:\n",
      "      Successfully uninstalled gast-0.2.2\n"
     ]
    },
    {
     "name": "stdout",
     "output_type": "stream",
     "text": [
      "\u001b[31mERROR: pip's dependency resolver does not currently take into account all the packages that are installed. This behaviour is the source of the following dependency conflicts.\n",
      "tensorflow-serving-api 2.1.0 requires tensorflow~=2.1.0, but you have tensorflow 2.3.0 which is incompatible.\n",
      "tensorflow-gpu 2.1.3 requires gast==0.2.2, but you have gast 0.3.3 which is incompatible.\n",
      "tensorflow-gpu 2.1.3 requires keras-preprocessing==1.1.0, but you have keras-preprocessing 1.1.2 which is incompatible.\n",
      "tensorflow-gpu 2.1.3 requires tensorboard<2.2.0,>=2.1.0, but you have tensorboard 2.7.0 which is incompatible.\n",
      "tensorflow-gpu 2.1.3 requires tensorflow-estimator<2.2.0,>=2.1.0rc0, but you have tensorflow-estimator 2.3.0 which is incompatible.\u001b[0m\n",
      "Successfully installed astunparse-1.6.3 gast-0.3.3 keras-preprocessing-1.1.2 numpy-1.18.5 scipy-1.4.1 tensorboard-2.7.0 tensorboard-data-server-0.6.1 tensorboard-plugin-wit-1.8.0 tensorflow-2.3.0 tensorflow-estimator-2.3.0\n",
      "\u001b[33mWARNING: You are using pip version 21.2.4; however, version 21.3.1 is available.\n",
      "You should consider upgrading via the '/home/ec2-user/anaconda3/envs/tensorflow2_p36/bin/python -m pip install --upgrade pip' command.\u001b[0m\n",
      "Note: you may need to restart the kernel to use updated packages.\n"
     ]
    }
   ],
   "source": [
    "pip install --upgrade tensorflow==2.3.0"
   ]
  },
  {
   "cell_type": "markdown",
   "id": "1e0cc07b",
   "metadata": {},
   "source": [
    "### NEED TO RESTART KERNEL AFTER UPDATE!!!"
   ]
  },
  {
   "cell_type": "code",
   "execution_count": 1,
   "id": "8e69d3c8",
   "metadata": {},
   "outputs": [
    {
     "name": "stdout",
     "output_type": "stream",
     "text": [
      "Num GPUs Available:  1\n"
     ]
    }
   ],
   "source": [
    "import tensorflow as tf\n",
    "print(\"Num GPUs Available: \", len(tf.config.list_physical_devices('GPU')))"
   ]
  },
  {
   "cell_type": "code",
   "execution_count": 2,
   "id": "23d7c1f6",
   "metadata": {},
   "outputs": [
    {
     "name": "stdout",
     "output_type": "stream",
     "text": [
      "2.3.0\n"
     ]
    }
   ],
   "source": [
    "print(tf.__version__)"
   ]
  },
  {
   "cell_type": "markdown",
   "id": "c3b76c6e",
   "metadata": {},
   "source": [
    "# Testing dataset loading"
   ]
  },
  {
   "cell_type": "code",
   "execution_count": 3,
   "id": "074f19f4",
   "metadata": {},
   "outputs": [
    {
     "name": "stdout",
     "output_type": "stream",
     "text": [
      "Batch size: 32\n",
      "\n",
      "Train data:\n",
      "Found 13656 files belonging to 2 classes.\n",
      "\n",
      "Test data:\n",
      "Found 1537 files belonging to 2 classes.\n"
     ]
    }
   ],
   "source": [
    "%run dataset.py"
   ]
  },
  {
   "cell_type": "markdown",
   "id": "08803864",
   "metadata": {},
   "source": [
    "# Training"
   ]
  },
  {
   "cell_type": "markdown",
   "id": "d1e627cf",
   "metadata": {},
   "source": [
    "### ResNet with Dense(1000), Dropout(0.5), Dense(300), Dropout(0.5)"
   ]
  },
  {
   "cell_type": "code",
   "execution_count": 6,
   "id": "de880ff8",
   "metadata": {},
   "outputs": [
    {
     "name": "stdout",
     "output_type": "stream",
     "text": [
      "32\n",
      "Found 13656 files belonging to 2 classes.\n",
      "Found 1537 files belonging to 2 classes.\n",
      "res_net\n",
      "Epoch 1/10\n",
      "427/427 [==============================] - ETA: 0s - loss: 5.6095 - AUC: 0.7581 - accuracy: 0.7569 - precision: 0.5708 - recall: 0.5402\n",
      "Epoch 00001: saving model to ./training/cp-0001.ckpt\n",
      "427/427 [==============================] - 124s 291ms/step - loss: 5.6095 - AUC: 0.7581 - accuracy: 0.7569 - precision: 0.5708 - recall: 0.5402 - val_loss: 2.0531 - val_AUC: 0.7329 - val_accuracy: 0.8699 - val_precision: 0.2889 - val_recall: 0.0718\n",
      "Epoch 2/10\n",
      "427/427 [==============================] - ETA: 0s - loss: 1.5800 - AUC: 0.8210 - accuracy: 0.7892 - precision: 0.6453 - recall: 0.5532\n",
      "Epoch 00002: saving model to ./training/cp-0002.ckpt\n",
      "427/427 [==============================] - 119s 279ms/step - loss: 1.5800 - AUC: 0.8210 - accuracy: 0.7892 - precision: 0.6453 - recall: 0.5532 - val_loss: 0.9262 - val_AUC: 0.7936 - val_accuracy: 0.8861 - val_precision: 0.5789 - val_recall: 0.1215\n",
      "Epoch 3/10\n",
      "427/427 [==============================] - ETA: 0s - loss: 0.9478 - AUC: 0.8399 - accuracy: 0.8057 - precision: 0.6884 - recall: 0.5629\n",
      "Epoch 00003: saving model to ./training/cp-0003.ckpt\n",
      "427/427 [==============================] - 119s 279ms/step - loss: 0.9478 - AUC: 0.8399 - accuracy: 0.8057 - precision: 0.6884 - recall: 0.5629 - val_loss: 0.7203 - val_AUC: 0.7850 - val_accuracy: 0.8777 - val_precision: 0.4000 - val_recall: 0.0773\n",
      "Epoch 4/10\n",
      "427/427 [==============================] - ETA: 0s - loss: 0.7401 - AUC: 0.8538 - accuracy: 0.8165 - precision: 0.7174 - recall: 0.5715\n",
      "Epoch 00004: saving model to ./training/cp-0004.ckpt\n",
      "427/427 [==============================] - 119s 279ms/step - loss: 0.7401 - AUC: 0.8538 - accuracy: 0.8165 - precision: 0.7174 - recall: 0.5715 - val_loss: 0.5493 - val_AUC: 0.8048 - val_accuracy: 0.8842 - val_precision: 0.5652 - val_recall: 0.0718\n",
      "Epoch 5/10\n",
      "427/427 [==============================] - ETA: 0s - loss: 0.6155 - AUC: 0.8664 - accuracy: 0.8243 - precision: 0.7349 - recall: 0.5850\n",
      "Epoch 00005: saving model to ./training/cp-0005.ckpt\n",
      "427/427 [==============================] - 119s 280ms/step - loss: 0.6155 - AUC: 0.8664 - accuracy: 0.8243 - precision: 0.7349 - recall: 0.5850 - val_loss: 0.4832 - val_AUC: 0.8102 - val_accuracy: 0.8803 - val_precision: 0.4000 - val_recall: 0.0331\n",
      "Epoch 6/10\n",
      "427/427 [==============================] - ETA: 0s - loss: 0.5559 - AUC: 0.8732 - accuracy: 0.8256 - precision: 0.7409 - recall: 0.5824\n",
      "Epoch 00006: saving model to ./training/cp-0006.ckpt\n",
      "427/427 [==============================] - 119s 279ms/step - loss: 0.5559 - AUC: 0.8732 - accuracy: 0.8256 - precision: 0.7409 - recall: 0.5824 - val_loss: 0.4600 - val_AUC: 0.8239 - val_accuracy: 0.8842 - val_precision: 0.5224 - val_recall: 0.1934\n",
      "Epoch 7/10\n",
      "427/427 [==============================] - ETA: 0s - loss: 0.5425 - AUC: 0.8730 - accuracy: 0.8282 - precision: 0.7441 - recall: 0.5915\n",
      "Epoch 00007: saving model to ./training/cp-0007.ckpt\n",
      "427/427 [==============================] - 119s 279ms/step - loss: 0.5425 - AUC: 0.8730 - accuracy: 0.8282 - precision: 0.7441 - recall: 0.5915 - val_loss: 0.4209 - val_AUC: 0.8112 - val_accuracy: 0.8848 - val_precision: 0.5625 - val_recall: 0.0994\n",
      "Epoch 8/10\n",
      "427/427 [==============================] - ETA: 0s - loss: 0.5135 - AUC: 0.8767 - accuracy: 0.8283 - precision: 0.7468 - recall: 0.5876\n",
      "Epoch 00008: saving model to ./training/cp-0008.ckpt\n",
      "427/427 [==============================] - 119s 279ms/step - loss: 0.5135 - AUC: 0.8767 - accuracy: 0.8283 - precision: 0.7468 - recall: 0.5876 - val_loss: 0.4113 - val_AUC: 0.8198 - val_accuracy: 0.8822 - val_precision: 0.5000 - val_recall: 0.0773\n",
      "Epoch 9/10\n",
      "427/427 [==============================] - ETA: 0s - loss: 0.5070 - AUC: 0.8740 - accuracy: 0.8235 - precision: 0.7476 - recall: 0.5608\n",
      "Epoch 00009: saving model to ./training/cp-0009.ckpt\n",
      "427/427 [==============================] - 119s 280ms/step - loss: 0.5070 - AUC: 0.8740 - accuracy: 0.8235 - precision: 0.7476 - recall: 0.5608 - val_loss: 0.4000 - val_AUC: 0.8064 - val_accuracy: 0.8842 - val_precision: 0.5600 - val_recall: 0.0773\n",
      "Epoch 10/10\n",
      "427/427 [==============================] - ETA: 0s - loss: 0.4949 - AUC: 0.8763 - accuracy: 0.8252 - precision: 0.7487 - recall: 0.5681\n",
      "Epoch 00010: saving model to ./training/cp-0010.ckpt\n",
      "427/427 [==============================] - 119s 280ms/step - loss: 0.4949 - AUC: 0.8763 - accuracy: 0.8252 - precision: 0.7487 - recall: 0.5681 - val_loss: 0.4232 - val_AUC: 0.8097 - val_accuracy: 0.8835 - val_precision: 0.5278 - val_recall: 0.1050\n",
      "WARNING:tensorflow:From /home/ec2-user/anaconda3/envs/tensorflow2_p36/lib/python3.6/site-packages/tensorflow/python/training/tracking/tracking.py:111: Model.state_updates (from tensorflow.python.keras.engine.training) is deprecated and will be removed in a future version.\n",
      "Instructions for updating:\n",
      "This property should not be used in TensorFlow 2.0, as updates are applied automatically.\n",
      "WARNING:tensorflow:From /home/ec2-user/anaconda3/envs/tensorflow2_p36/lib/python3.6/site-packages/tensorflow/python/training/tracking/tracking.py:111: Layer.updates (from tensorflow.python.keras.engine.base_layer) is deprecated and will be removed in a future version.\n",
      "Instructions for updating:\n",
      "This property should not be used in TensorFlow 2.0, as updates are applied automatically.\n",
      "INFO:tensorflow:Assets written to: results/saved_models/res_net/assets\n",
      "res_net\n",
      "hello world\n"
     ]
    }
   ],
   "source": [
    "%run train.py --enet-type res_net --n-epochs 10"
   ]
  },
  {
   "cell_type": "markdown",
   "id": "38bdbd6f",
   "metadata": {},
   "source": [
    "### EfficientNet with Dense(1000), Dropout(0.5), Dense(300), Dropout(0.5)"
   ]
  },
  {
   "cell_type": "code",
   "execution_count": 10,
   "id": "45d239df",
   "metadata": {},
   "outputs": [
    {
     "name": "stdout",
     "output_type": "stream",
     "text": [
      "32\n",
      "Found 13656 files belonging to 2 classes.\n",
      "Found 1537 files belonging to 2 classes.\n",
      "eff_net\n",
      "Epoch 1/10\n",
      "427/427 [==============================] - ETA: 0s - loss: 6.3413 - AUC: 0.7625 - accuracy: 0.7583 - precision: 0.5806 - recall: 0.5018\n",
      "Epoch 00001: saving model to ./training/cp-0001.ckpt\n",
      "427/427 [==============================] - 120s 282ms/step - loss: 6.3413 - AUC: 0.7625 - accuracy: 0.7583 - precision: 0.5806 - recall: 0.5018 - val_loss: 2.0406 - val_AUC: 0.7604 - val_accuracy: 0.8848 - val_precision: 0.5769 - val_recall: 0.0829\n",
      "Epoch 2/10\n",
      "426/427 [============================>.] - ETA: 0s - loss: 1.6305 - AUC: 0.8276 - accuracy: 0.7974 - precision: 0.6826 - recall: 0.5211\n",
      "Epoch 00002: saving model to ./training/cp-0002.ckpt\n",
      "427/427 [==============================] - 118s 276ms/step - loss: 1.6297 - AUC: 0.8276 - accuracy: 0.7975 - precision: 0.6825 - recall: 0.5214 - val_loss: 1.1495 - val_AUC: 0.7799 - val_accuracy: 0.8842 - val_precision: 0.6000 - val_recall: 0.0497\n",
      "Epoch 3/10\n",
      "426/427 [============================>.] - ETA: 0s - loss: 1.0758 - AUC: 0.8382 - accuracy: 0.8080 - precision: 0.7133 - recall: 0.5276\n",
      "Epoch 00003: saving model to ./training/cp-0003.ckpt\n",
      "427/427 [==============================] - 118s 276ms/step - loss: 1.0760 - AUC: 0.8379 - accuracy: 0.8078 - precision: 0.7134 - recall: 0.5271 - val_loss: 0.8195 - val_AUC: 0.7810 - val_accuracy: 0.8842 - val_precision: 0.5882 - val_recall: 0.0552\n",
      "Epoch 4/10\n",
      "426/427 [============================>.] - ETA: 0s - loss: 0.8166 - AUC: 0.8453 - accuracy: 0.8114 - precision: 0.7351 - recall: 0.5137\n",
      "Epoch 00004: saving model to ./training/cp-0004.ckpt\n",
      "427/427 [==============================] - 118s 276ms/step - loss: 0.8165 - AUC: 0.8453 - accuracy: 0.8114 - precision: 0.7345 - recall: 0.5138 - val_loss: 0.6491 - val_AUC: 0.7540 - val_accuracy: 0.8764 - val_precision: 0.4182 - val_recall: 0.1271\n",
      "Epoch 5/10\n",
      "426/427 [============================>.] - ETA: 0s - loss: 0.6670 - AUC: 0.8530 - accuracy: 0.8165 - precision: 0.7379 - recall: 0.5375\n",
      "Epoch 00005: saving model to ./training/cp-0005.ckpt\n",
      "427/427 [==============================] - 118s 276ms/step - loss: 0.6671 - AUC: 0.8529 - accuracy: 0.8163 - precision: 0.7370 - recall: 0.5373 - val_loss: 0.5521 - val_AUC: 0.7628 - val_accuracy: 0.8790 - val_precision: 0.4590 - val_recall: 0.1547\n",
      "Epoch 6/10\n",
      "426/427 [============================>.] - ETA: 0s - loss: 0.5919 - AUC: 0.8531 - accuracy: 0.8135 - precision: 0.7388 - recall: 0.5191\n",
      "Epoch 00006: saving model to ./training/cp-0006.ckpt\n",
      "427/427 [==============================] - 118s 275ms/step - loss: 0.5918 - AUC: 0.8532 - accuracy: 0.8136 - precision: 0.7392 - recall: 0.5190 - val_loss: 0.4993 - val_AUC: 0.7829 - val_accuracy: 0.8842 - val_precision: 0.5385 - val_recall: 0.1160\n",
      "Epoch 7/10\n",
      "426/427 [============================>.] - ETA: 0s - loss: 0.5457 - AUC: 0.8568 - accuracy: 0.8144 - precision: 0.7370 - recall: 0.5272\n",
      "Epoch 00007: saving model to ./training/cp-0007.ckpt\n",
      "427/427 [==============================] - 117s 274ms/step - loss: 0.5456 - AUC: 0.8568 - accuracy: 0.8144 - precision: 0.7369 - recall: 0.5274 - val_loss: 0.4539 - val_AUC: 0.7760 - val_accuracy: 0.8751 - val_precision: 0.3514 - val_recall: 0.0718\n",
      "Epoch 8/10\n",
      "426/427 [============================>.] - ETA: 0s - loss: 0.5190 - AUC: 0.8512 - accuracy: 0.8176 - precision: 0.7474 - recall: 0.5289\n",
      "Epoch 00008: saving model to ./training/cp-0008.ckpt\n",
      "427/427 [==============================] - 117s 274ms/step - loss: 0.5186 - AUC: 0.8515 - accuracy: 0.8177 - precision: 0.7478 - recall: 0.5290 - val_loss: 0.4328 - val_AUC: 0.7874 - val_accuracy: 0.8829 - val_precision: 0.5143 - val_recall: 0.0994\n",
      "Epoch 9/10\n",
      "426/427 [============================>.] - ETA: 0s - loss: 0.5014 - AUC: 0.8558 - accuracy: 0.8154 - precision: 0.7478 - recall: 0.5174\n",
      "Epoch 00009: saving model to ./training/cp-0009.ckpt\n",
      "427/427 [==============================] - 117s 274ms/step - loss: 0.5017 - AUC: 0.8553 - accuracy: 0.8153 - precision: 0.7474 - recall: 0.5170 - val_loss: 0.3929 - val_AUC: 0.7890 - val_accuracy: 0.8868 - val_precision: 0.7692 - val_recall: 0.0552\n",
      "Epoch 10/10\n",
      "426/427 [============================>.] - ETA: 0s - loss: 0.4942 - AUC: 0.8558 - accuracy: 0.8142 - precision: 0.7420 - recall: 0.5180\n",
      "Epoch 00010: saving model to ./training/cp-0010.ckpt\n",
      "427/427 [==============================] - 117s 275ms/step - loss: 0.4945 - AUC: 0.8556 - accuracy: 0.8141 - precision: 0.7421 - recall: 0.5177 - val_loss: 0.4031 - val_AUC: 0.7760 - val_accuracy: 0.8868 - val_precision: 0.5814 - val_recall: 0.1381\n",
      "INFO:tensorflow:Assets written to: results/saved_models/eff_net/assets\n",
      "eff_net\n",
      "hello world\n"
     ]
    }
   ],
   "source": [
    "%run train.py --enet-type eff_net --n-epochs 10"
   ]
  },
  {
   "cell_type": "markdown",
   "id": "127b5b29",
   "metadata": {},
   "source": [
    "### VGG16 with Dense(1000), Dropout(0.5), Dense(300), Dropout(0.5)"
   ]
  },
  {
   "cell_type": "code",
   "execution_count": 1,
   "id": "0da0ac95",
   "metadata": {},
   "outputs": [
    {
     "name": "stdout",
     "output_type": "stream",
     "text": [
      "Batch size: 32\n",
      "\n",
      "Train data:\n",
      "Found 13656 files belonging to 2 classes.\n",
      "\n",
      "Test data:\n",
      "Found 1537 files belonging to 2 classes.\n",
      "vgg16\n",
      "Epoch 1/10\n",
      "427/427 [==============================] - 194s 454ms/step - loss: 9.4805 - AUC: 0.7426 - accuracy: 0.7491 - precision: 0.5567 - recall: 0.5222 - val_loss: 5.9505 - val_AUC: 0.7534 - val_accuracy: 0.8829 - val_precision: 0.5455 - val_recall: 0.0331\n",
      "Epoch 2/10\n",
      "427/427 [==============================] - 120s 282ms/step - loss: 4.6418 - AUC: 0.8237 - accuracy: 0.7948 - precision: 0.6670 - recall: 0.5376 - val_loss: 3.3018 - val_AUC: 0.7844 - val_accuracy: 0.8822 - val_precision: 0.5000 - val_recall: 0.0276\n",
      "Epoch 3/10\n",
      "427/427 [==============================] - 120s 282ms/step - loss: 2.6351 - AUC: 0.8607 - accuracy: 0.8196 - precision: 0.7304 - recall: 0.5668 - val_loss: 1.9452 - val_AUC: 0.7860 - val_accuracy: 0.8822 - val_precision: 0.5000 - val_recall: 0.0608\n",
      "Epoch 4/10\n",
      "427/427 [==============================] - 120s 282ms/step - loss: 1.6558 - AUC: 0.8665 - accuracy: 0.8221 - precision: 0.7342 - recall: 0.5741 - val_loss: 1.2711 - val_AUC: 0.7867 - val_accuracy: 0.8790 - val_precision: 0.4286 - val_recall: 0.0829\n",
      "Epoch 5/10\n",
      "427/427 [==============================] - 120s 282ms/step - loss: 1.1344 - AUC: 0.8750 - accuracy: 0.8276 - precision: 0.7406 - recall: 0.5942 - val_loss: 0.8911 - val_AUC: 0.7933 - val_accuracy: 0.8822 - val_precision: 0.5000 - val_recall: 0.0994\n",
      "Epoch 6/10\n",
      "427/427 [==============================] - 120s 282ms/step - loss: 0.8769 - AUC: 0.8741 - accuracy: 0.8267 - precision: 0.7428 - recall: 0.5853 - val_loss: 0.7070 - val_AUC: 0.8001 - val_accuracy: 0.8790 - val_precision: 0.4390 - val_recall: 0.0994\n",
      "Epoch 7/10\n",
      "427/427 [==============================] - 120s 282ms/step - loss: 0.7181 - AUC: 0.8801 - accuracy: 0.8294 - precision: 0.7479 - recall: 0.5918 - val_loss: 0.5925 - val_AUC: 0.8002 - val_accuracy: 0.8809 - val_precision: 0.4808 - val_recall: 0.1381\n",
      "Epoch 8/10\n",
      "427/427 [==============================] - 120s 282ms/step - loss: 0.6524 - AUC: 0.8791 - accuracy: 0.8299 - precision: 0.7494 - recall: 0.5921 - val_loss: 0.5624 - val_AUC: 0.7944 - val_accuracy: 0.8796 - val_precision: 0.4545 - val_recall: 0.1105\n",
      "Epoch 9/10\n",
      "427/427 [==============================] - 120s 282ms/step - loss: 0.6051 - AUC: 0.8767 - accuracy: 0.8293 - precision: 0.7474 - recall: 0.5921 - val_loss: 0.4998 - val_AUC: 0.8023 - val_accuracy: 0.8816 - val_precision: 0.4889 - val_recall: 0.1215\n",
      "Epoch 10/10\n",
      "427/427 [==============================] - 120s 282ms/step - loss: 0.5779 - AUC: 0.8820 - accuracy: 0.8317 - precision: 0.7562 - recall: 0.5913 - val_loss: 0.4747 - val_AUC: 0.7993 - val_accuracy: 0.8803 - val_precision: 0.4717 - val_recall: 0.1381\n",
      "WARNING:tensorflow:From /home/ec2-user/anaconda3/envs/tensorflow2_p36/lib/python3.6/site-packages/tensorflow/python/training/tracking/tracking.py:111: Model.state_updates (from tensorflow.python.keras.engine.training) is deprecated and will be removed in a future version.\n",
      "Instructions for updating:\n",
      "This property should not be used in TensorFlow 2.0, as updates are applied automatically.\n",
      "WARNING:tensorflow:From /home/ec2-user/anaconda3/envs/tensorflow2_p36/lib/python3.6/site-packages/tensorflow/python/training/tracking/tracking.py:111: Layer.updates (from tensorflow.python.keras.engine.base_layer) is deprecated and will be removed in a future version.\n",
      "Instructions for updating:\n",
      "This property should not be used in TensorFlow 2.0, as updates are applied automatically.\n",
      "INFO:tensorflow:Assets written to: results/saved_models/vgg16/assets\n",
      "Model vgg16 saved to 'results/saved_models/vgg16'.\n"
     ]
    }
   ],
   "source": [
    "%run train.py --enet-type vgg16 --n-epochs 10"
   ]
  },
  {
   "cell_type": "markdown",
   "id": "cfe722d5",
   "metadata": {},
   "source": [
    "# Predict"
   ]
  },
  {
   "cell_type": "code",
   "execution_count": 4,
   "id": "f51735f4",
   "metadata": {},
   "outputs": [
    {
     "name": "stdout",
     "output_type": "stream",
     "text": [
      "Batch size: 32\n",
      "\n",
      "Train data:\n",
      "Found 13656 files belonging to 2 classes.\n",
      "\n",
      "Test data:\n",
      "Found 1537 files belonging to 2 classes.\n",
      "Predictions saved to 'results/predictions/predictions-res_net.csv'.\n"
     ]
    }
   ],
   "source": [
    "%run predict.py --enet-type res_net "
   ]
  },
  {
   "cell_type": "code",
   "execution_count": 3,
   "id": "f236cedd",
   "metadata": {},
   "outputs": [
    {
     "name": "stdout",
     "output_type": "stream",
     "text": [
      "Batch size: 32\n",
      "\n",
      "Train data:\n",
      "Found 13656 files belonging to 2 classes.\n",
      "\n",
      "Test data:\n",
      "Found 1537 files belonging to 2 classes.\n",
      "WARNING:tensorflow:Importing a function (__inference_block2c_activation_layer_call_and_return_conditional_losses_282165) with ops with custom gradients. Will likely fail if a gradient is requested.\n",
      "WARNING:tensorflow:Importing a function (__inference_block6b_expand_activation_layer_call_and_return_conditional_losses_251273) with ops with custom gradients. Will likely fail if a gradient is requested.\n",
      "WARNING:tensorflow:Importing a function (__inference_block3c_activation_layer_call_and_return_conditional_losses_247122) with ops with custom gradients. Will likely fail if a gradient is requested.\n",
      "WARNING:tensorflow:Importing a function (__inference_block5a_expand_activation_layer_call_and_return_conditional_losses_286356) with ops with custom gradients. Will likely fail if a gradient is requested.\n",
      "WARNING:tensorflow:Importing a function (__inference_block3b_expand_activation_layer_call_and_return_conditional_losses_246590) with ops with custom gradients. Will likely fail if a gradient is requested.\n",
      "WARNING:tensorflow:Importing a function (__inference_block6a_expand_activation_layer_call_and_return_conditional_losses_288521) with ops with custom gradients. Will likely fail if a gradient is requested.\n",
      "WARNING:tensorflow:Importing a function (__inference_block6b_se_reduce_layer_call_and_return_conditional_losses_251412) with ops with custom gradients. Will likely fail if a gradient is requested.\n",
      "WARNING:tensorflow:Importing a function (__inference_block6d_expand_activation_layer_call_and_return_conditional_losses_290133) with ops with custom gradients. Will likely fail if a gradient is requested.\n",
      "WARNING:tensorflow:Importing a function (__inference_block7a_se_reduce_layer_call_and_return_conditional_losses_253172) with ops with custom gradients. Will likely fail if a gradient is requested.\n",
      "WARNING:tensorflow:Importing a function (__inference_block5c_se_reduce_layer_call_and_return_conditional_losses_287594) with ops with custom gradients. Will likely fail if a gradient is requested.\n",
      "WARNING:tensorflow:Importing a function (__inference_block1a_activation_layer_call_and_return_conditional_losses_280200) with ops with custom gradients. Will likely fail if a gradient is requested.\n",
      "WARNING:tensorflow:Importing a function (__inference_block5a_activation_layer_call_and_return_conditional_losses_249270) with ops with custom gradients. Will likely fail if a gradient is requested.\n",
      "WARNING:tensorflow:Importing a function (__inference_block3b_activation_layer_call_and_return_conditional_losses_283224) with ops with custom gradients. Will likely fail if a gradient is requested.\n",
      "WARNING:tensorflow:Importing a function (__inference_block6b_activation_layer_call_and_return_conditional_losses_251365) with ops with custom gradients. Will likely fail if a gradient is requested.\n",
      "WARNING:tensorflow:Importing a function (__inference_block1b_se_reduce_layer_call_and_return_conditional_losses_244633) with ops with custom gradients. Will likely fail if a gradient is requested.\n",
      "WARNING:tensorflow:Importing a function (__inference_block6d_activation_layer_call_and_return_conditional_losses_252245) with ops with custom gradients. Will likely fail if a gradient is requested.\n",
      "WARNING:tensorflow:Importing a function (__inference_block2a_expand_activation_layer_call_and_return_conditional_losses_280967) with ops with custom gradients. Will likely fail if a gradient is requested.\n",
      "WARNING:tensorflow:Importing a function (__inference_block3c_se_reduce_layer_call_and_return_conditional_losses_247169) with ops with custom gradients. Will likely fail if a gradient is requested.\n",
      "WARNING:tensorflow:Importing a function (__inference_block6a_se_reduce_layer_call_and_return_conditional_losses_251025) with ops with custom gradients. Will likely fail if a gradient is requested.\n",
      "WARNING:tensorflow:Importing a function (__inference_efficientnetb2_layer_call_and_return_conditional_losses_275671) with ops with custom gradients. Will likely fail if a gradient is requested.\n",
      "WARNING:tensorflow:Importing a function (__inference_efficientnetb2_layer_call_and_return_conditional_losses_275671) with ops with custom gradients. Will likely fail if a gradient is requested.\n",
      "WARNING:tensorflow:Importing a function (__inference_efficientnetb2_layer_call_and_return_conditional_losses_275671) with ops with custom gradients. Will likely fail if a gradient is requested.\n",
      "WARNING:tensorflow:Importing a function (__inference_efficientnetb2_layer_call_and_return_conditional_losses_275671) with ops with custom gradients. Will likely fail if a gradient is requested.\n",
      "WARNING:tensorflow:Importing a function (__inference_efficientnetb2_layer_call_and_return_conditional_losses_275671) with ops with custom gradients. Will likely fail if a gradient is requested.\n",
      "WARNING:tensorflow:Importing a function (__inference_efficientnetb2_layer_call_and_return_conditional_losses_275671) with ops with custom gradients. Will likely fail if a gradient is requested.\n",
      "WARNING:tensorflow:Importing a function (__inference_efficientnetb2_layer_call_and_return_conditional_losses_275671) with ops with custom gradients. Will likely fail if a gradient is requested.\n",
      "WARNING:tensorflow:Importing a function (__inference_efficientnetb2_layer_call_and_return_conditional_losses_275671) with ops with custom gradients. Will likely fail if a gradient is requested.\n",
      "WARNING:tensorflow:Importing a function (__inference_efficientnetb2_layer_call_and_return_conditional_losses_275671) with ops with custom gradients. Will likely fail if a gradient is requested.\n",
      "WARNING:tensorflow:Importing a function (__inference_efficientnetb2_layer_call_and_return_conditional_losses_275671) with ops with custom gradients. Will likely fail if a gradient is requested.\n",
      "WARNING:tensorflow:Importing a function (__inference_efficientnetb2_layer_call_and_return_conditional_losses_275671) with ops with custom gradients. Will likely fail if a gradient is requested.\n",
      "WARNING:tensorflow:Importing a function (__inference_efficientnetb2_layer_call_and_return_conditional_losses_275671) with ops with custom gradients. Will likely fail if a gradient is requested.\n",
      "WARNING:tensorflow:Importing a function (__inference_efficientnetb2_layer_call_and_return_conditional_losses_275671) with ops with custom gradients. Will likely fail if a gradient is requested.\n",
      "WARNING:tensorflow:Importing a function (__inference_efficientnetb2_layer_call_and_return_conditional_losses_275671) with ops with custom gradients. Will likely fail if a gradient is requested.\n",
      "WARNING:tensorflow:Importing a function (__inference_efficientnetb2_layer_call_and_return_conditional_losses_275671) with ops with custom gradients. Will likely fail if a gradient is requested.\n",
      "WARNING:tensorflow:Importing a function (__inference_efficientnetb2_layer_call_and_return_conditional_losses_275671) with ops with custom gradients. Will likely fail if a gradient is requested.\n",
      "WARNING:tensorflow:Importing a function (__inference_efficientnetb2_layer_call_and_return_conditional_losses_275671) with ops with custom gradients. Will likely fail if a gradient is requested.\n",
      "WARNING:tensorflow:Importing a function (__inference_efficientnetb2_layer_call_and_return_conditional_losses_275671) with ops with custom gradients. Will likely fail if a gradient is requested.\n",
      "WARNING:tensorflow:Importing a function (__inference_efficientnetb2_layer_call_and_return_conditional_losses_275671) with ops with custom gradients. Will likely fail if a gradient is requested.\n",
      "WARNING:tensorflow:Importing a function (__inference_efficientnetb2_layer_call_and_return_conditional_losses_275671) with ops with custom gradients. Will likely fail if a gradient is requested.\n",
      "WARNING:tensorflow:Importing a function (__inference_efficientnetb2_layer_call_and_return_conditional_losses_275671) with ops with custom gradients. Will likely fail if a gradient is requested.\n",
      "WARNING:tensorflow:Importing a function (__inference_efficientnetb2_layer_call_and_return_conditional_losses_275671) with ops with custom gradients. Will likely fail if a gradient is requested.\n",
      "WARNING:tensorflow:Importing a function (__inference_efficientnetb2_layer_call_and_return_conditional_losses_275671) with ops with custom gradients. Will likely fail if a gradient is requested.\n"
     ]
    },
    {
     "name": "stdout",
     "output_type": "stream",
     "text": [
      "WARNING:tensorflow:Importing a function (__inference_efficientnetb2_layer_call_and_return_conditional_losses_275671) with ops with custom gradients. Will likely fail if a gradient is requested.\n",
      "WARNING:tensorflow:Importing a function (__inference_efficientnetb2_layer_call_and_return_conditional_losses_275671) with ops with custom gradients. Will likely fail if a gradient is requested.\n",
      "WARNING:tensorflow:Importing a function (__inference_efficientnetb2_layer_call_and_return_conditional_losses_275671) with ops with custom gradients. Will likely fail if a gradient is requested.\n",
      "WARNING:tensorflow:Importing a function (__inference_efficientnetb2_layer_call_and_return_conditional_losses_275671) with ops with custom gradients. Will likely fail if a gradient is requested.\n",
      "WARNING:tensorflow:Importing a function (__inference_efficientnetb2_layer_call_and_return_conditional_losses_275671) with ops with custom gradients. Will likely fail if a gradient is requested.\n",
      "WARNING:tensorflow:Importing a function (__inference_efficientnetb2_layer_call_and_return_conditional_losses_275671) with ops with custom gradients. Will likely fail if a gradient is requested.\n",
      "WARNING:tensorflow:Importing a function (__inference_efficientnetb2_layer_call_and_return_conditional_losses_275671) with ops with custom gradients. Will likely fail if a gradient is requested.\n",
      "WARNING:tensorflow:Importing a function (__inference_efficientnetb2_layer_call_and_return_conditional_losses_275671) with ops with custom gradients. Will likely fail if a gradient is requested.\n",
      "WARNING:tensorflow:Importing a function (__inference_efficientnetb2_layer_call_and_return_conditional_losses_275671) with ops with custom gradients. Will likely fail if a gradient is requested.\n",
      "WARNING:tensorflow:Importing a function (__inference_efficientnetb2_layer_call_and_return_conditional_losses_275671) with ops with custom gradients. Will likely fail if a gradient is requested.\n",
      "WARNING:tensorflow:Importing a function (__inference_efficientnetb2_layer_call_and_return_conditional_losses_275671) with ops with custom gradients. Will likely fail if a gradient is requested.\n",
      "WARNING:tensorflow:Importing a function (__inference_efficientnetb2_layer_call_and_return_conditional_losses_275671) with ops with custom gradients. Will likely fail if a gradient is requested.\n",
      "WARNING:tensorflow:Importing a function (__inference_efficientnetb2_layer_call_and_return_conditional_losses_275671) with ops with custom gradients. Will likely fail if a gradient is requested.\n",
      "WARNING:tensorflow:Importing a function (__inference_efficientnetb2_layer_call_and_return_conditional_losses_275671) with ops with custom gradients. Will likely fail if a gradient is requested.\n",
      "WARNING:tensorflow:Importing a function (__inference_efficientnetb2_layer_call_and_return_conditional_losses_275671) with ops with custom gradients. Will likely fail if a gradient is requested.\n",
      "WARNING:tensorflow:Importing a function (__inference_efficientnetb2_layer_call_and_return_conditional_losses_275671) with ops with custom gradients. Will likely fail if a gradient is requested.\n",
      "WARNING:tensorflow:Importing a function (__inference_efficientnetb2_layer_call_and_return_conditional_losses_275671) with ops with custom gradients. Will likely fail if a gradient is requested.\n",
      "WARNING:tensorflow:Importing a function (__inference_efficientnetb2_layer_call_and_return_conditional_losses_275671) with ops with custom gradients. Will likely fail if a gradient is requested.\n",
      "WARNING:tensorflow:Importing a function (__inference_efficientnetb2_layer_call_and_return_conditional_losses_275671) with ops with custom gradients. Will likely fail if a gradient is requested.\n",
      "WARNING:tensorflow:Importing a function (__inference_efficientnetb2_layer_call_and_return_conditional_losses_275671) with ops with custom gradients. Will likely fail if a gradient is requested.\n",
      "WARNING:tensorflow:Importing a function (__inference_efficientnetb2_layer_call_and_return_conditional_losses_275671) with ops with custom gradients. Will likely fail if a gradient is requested.\n",
      "WARNING:tensorflow:Importing a function (__inference_efficientnetb2_layer_call_and_return_conditional_losses_275671) with ops with custom gradients. Will likely fail if a gradient is requested.\n",
      "WARNING:tensorflow:Importing a function (__inference_efficientnetb2_layer_call_and_return_conditional_losses_275671) with ops with custom gradients. Will likely fail if a gradient is requested.\n",
      "WARNING:tensorflow:Importing a function (__inference_efficientnetb2_layer_call_and_return_conditional_losses_275671) with ops with custom gradients. Will likely fail if a gradient is requested.\n",
      "WARNING:tensorflow:Importing a function (__inference_efficientnetb2_layer_call_and_return_conditional_losses_275671) with ops with custom gradients. Will likely fail if a gradient is requested.\n",
      "WARNING:tensorflow:Importing a function (__inference_efficientnetb2_layer_call_and_return_conditional_losses_275671) with ops with custom gradients. Will likely fail if a gradient is requested.\n",
      "WARNING:tensorflow:Importing a function (__inference_efficientnetb2_layer_call_and_return_conditional_losses_275671) with ops with custom gradients. Will likely fail if a gradient is requested.\n",
      "WARNING:tensorflow:Importing a function (__inference_efficientnetb2_layer_call_and_return_conditional_losses_275671) with ops with custom gradients. Will likely fail if a gradient is requested.\n",
      "WARNING:tensorflow:Importing a function (__inference_efficientnetb2_layer_call_and_return_conditional_losses_275671) with ops with custom gradients. Will likely fail if a gradient is requested.\n",
      "WARNING:tensorflow:Importing a function (__inference_efficientnetb2_layer_call_and_return_conditional_losses_275671) with ops with custom gradients. Will likely fail if a gradient is requested.\n",
      "WARNING:tensorflow:Importing a function (__inference_efficientnetb2_layer_call_and_return_conditional_losses_275671) with ops with custom gradients. Will likely fail if a gradient is requested.\n",
      "WARNING:tensorflow:Importing a function (__inference_efficientnetb2_layer_call_and_return_conditional_losses_275671) with ops with custom gradients. Will likely fail if a gradient is requested.\n",
      "WARNING:tensorflow:Importing a function (__inference_efficientnetb2_layer_call_and_return_conditional_losses_275671) with ops with custom gradients. Will likely fail if a gradient is requested.\n",
      "WARNING:tensorflow:Importing a function (__inference_efficientnetb2_layer_call_and_return_conditional_losses_275671) with ops with custom gradients. Will likely fail if a gradient is requested.\n",
      "WARNING:tensorflow:Importing a function (__inference_efficientnetb2_layer_call_and_return_conditional_losses_275671) with ops with custom gradients. Will likely fail if a gradient is requested.\n",
      "WARNING:tensorflow:Importing a function (__inference_efficientnetb2_layer_call_and_return_conditional_losses_275671) with ops with custom gradients. Will likely fail if a gradient is requested.\n",
      "WARNING:tensorflow:Importing a function (__inference_efficientnetb2_layer_call_and_return_conditional_losses_275671) with ops with custom gradients. Will likely fail if a gradient is requested.\n",
      "WARNING:tensorflow:Importing a function (__inference_efficientnetb2_layer_call_and_return_conditional_losses_275671) with ops with custom gradients. Will likely fail if a gradient is requested.\n",
      "WARNING:tensorflow:Importing a function (__inference_efficientnetb2_layer_call_and_return_conditional_losses_275671) with ops with custom gradients. Will likely fail if a gradient is requested.\n",
      "WARNING:tensorflow:Importing a function (__inference_efficientnetb2_layer_call_and_return_conditional_losses_275671) with ops with custom gradients. Will likely fail if a gradient is requested.\n",
      "WARNING:tensorflow:Importing a function (__inference_efficientnetb2_layer_call_and_return_conditional_losses_275671) with ops with custom gradients. Will likely fail if a gradient is requested.\n",
      "WARNING:tensorflow:Importing a function (__inference_efficientnetb2_layer_call_and_return_conditional_losses_275671) with ops with custom gradients. Will likely fail if a gradient is requested.\n",
      "WARNING:tensorflow:Importing a function (__inference_efficientnetb2_layer_call_and_return_conditional_losses_275671) with ops with custom gradients. Will likely fail if a gradient is requested.\n"
     ]
    },
    {
     "name": "stdout",
     "output_type": "stream",
     "text": [
      "WARNING:tensorflow:Importing a function (__inference_efficientnetb2_layer_call_and_return_conditional_losses_275671) with ops with custom gradients. Will likely fail if a gradient is requested.\n",
      "WARNING:tensorflow:Importing a function (__inference_efficientnetb2_layer_call_and_return_conditional_losses_275671) with ops with custom gradients. Will likely fail if a gradient is requested.\n",
      "WARNING:tensorflow:Importing a function (__inference_efficientnetb2_layer_call_and_return_conditional_losses_275671) with ops with custom gradients. Will likely fail if a gradient is requested.\n",
      "WARNING:tensorflow:Importing a function (__inference_block6e_activation_layer_call_and_return_conditional_losses_252685) with ops with custom gradients. Will likely fail if a gradient is requested.\n",
      "WARNING:tensorflow:Importing a function (__inference_block1a_se_reduce_layer_call_and_return_conditional_losses_244354) with ops with custom gradients. Will likely fail if a gradient is requested.\n",
      "WARNING:tensorflow:Importing a function (__inference_block5b_activation_layer_call_and_return_conditional_losses_249657) with ops with custom gradients. Will likely fail if a gradient is requested.\n",
      "WARNING:tensorflow:Importing a function (__inference_block1a_activation_layer_call_and_return_conditional_losses_244307) with ops with custom gradients. Will likely fail if a gradient is requested.\n",
      "WARNING:tensorflow:Importing a function (__inference_block2b_expand_activation_layer_call_and_return_conditional_losses_281473) with ops with custom gradients. Will likely fail if a gradient is requested.\n",
      "WARNING:tensorflow:Importing a function (__inference_block4d_activation_layer_call_and_return_conditional_losses_285942) with ops with custom gradients. Will likely fail if a gradient is requested.\n",
      "WARNING:tensorflow:Importing a function (__inference_block5b_se_reduce_layer_call_and_return_conditional_losses_249704) with ops with custom gradients. Will likely fail if a gradient is requested.\n",
      "WARNING:tensorflow:Importing a function (__inference_block6c_se_reduce_layer_call_and_return_conditional_losses_251852) with ops with custom gradients. Will likely fail if a gradient is requested.\n",
      "WARNING:tensorflow:Importing a function (__inference_block3c_activation_layer_call_and_return_conditional_losses_283777) with ops with custom gradients. Will likely fail if a gradient is requested.\n",
      "WARNING:tensorflow:Importing a function (__inference_block6b_expand_activation_layer_call_and_return_conditional_losses_289027) with ops with custom gradients. Will likely fail if a gradient is requested.\n",
      "WARNING:tensorflow:Importing a function (__inference_block4c_activation_layer_call_and_return_conditional_losses_248390) with ops with custom gradients. Will likely fail if a gradient is requested.\n",
      "WARNING:tensorflow:Importing a function (__inference__wrapped_model_236405) with ops with custom gradients. Will likely fail if a gradient is requested.\n",
      "WARNING:tensorflow:Importing a function (__inference__wrapped_model_236405) with ops with custom gradients. Will likely fail if a gradient is requested.\n",
      "WARNING:tensorflow:Importing a function (__inference__wrapped_model_236405) with ops with custom gradients. Will likely fail if a gradient is requested.\n",
      "WARNING:tensorflow:Importing a function (__inference__wrapped_model_236405) with ops with custom gradients. Will likely fail if a gradient is requested.\n",
      "WARNING:tensorflow:Importing a function (__inference__wrapped_model_236405) with ops with custom gradients. Will likely fail if a gradient is requested.\n",
      "WARNING:tensorflow:Importing a function (__inference__wrapped_model_236405) with ops with custom gradients. Will likely fail if a gradient is requested.\n",
      "WARNING:tensorflow:Importing a function (__inference__wrapped_model_236405) with ops with custom gradients. Will likely fail if a gradient is requested.\n",
      "WARNING:tensorflow:Importing a function (__inference__wrapped_model_236405) with ops with custom gradients. Will likely fail if a gradient is requested.\n",
      "WARNING:tensorflow:Importing a function (__inference__wrapped_model_236405) with ops with custom gradients. Will likely fail if a gradient is requested.\n",
      "WARNING:tensorflow:Importing a function (__inference__wrapped_model_236405) with ops with custom gradients. Will likely fail if a gradient is requested.\n",
      "WARNING:tensorflow:Importing a function (__inference__wrapped_model_236405) with ops with custom gradients. Will likely fail if a gradient is requested.\n",
      "WARNING:tensorflow:Importing a function (__inference__wrapped_model_236405) with ops with custom gradients. Will likely fail if a gradient is requested.\n",
      "WARNING:tensorflow:Importing a function (__inference__wrapped_model_236405) with ops with custom gradients. Will likely fail if a gradient is requested.\n",
      "WARNING:tensorflow:Importing a function (__inference__wrapped_model_236405) with ops with custom gradients. Will likely fail if a gradient is requested.\n",
      "WARNING:tensorflow:Importing a function (__inference__wrapped_model_236405) with ops with custom gradients. Will likely fail if a gradient is requested.\n",
      "WARNING:tensorflow:Importing a function (__inference__wrapped_model_236405) with ops with custom gradients. Will likely fail if a gradient is requested.\n",
      "WARNING:tensorflow:Importing a function (__inference__wrapped_model_236405) with ops with custom gradients. Will likely fail if a gradient is requested.\n",
      "WARNING:tensorflow:Importing a function (__inference__wrapped_model_236405) with ops with custom gradients. Will likely fail if a gradient is requested.\n",
      "WARNING:tensorflow:Importing a function (__inference__wrapped_model_236405) with ops with custom gradients. Will likely fail if a gradient is requested.\n",
      "WARNING:tensorflow:Importing a function (__inference__wrapped_model_236405) with ops with custom gradients. Will likely fail if a gradient is requested.\n",
      "WARNING:tensorflow:Importing a function (__inference__wrapped_model_236405) with ops with custom gradients. Will likely fail if a gradient is requested.\n",
      "WARNING:tensorflow:Importing a function (__inference__wrapped_model_236405) with ops with custom gradients. Will likely fail if a gradient is requested.\n",
      "WARNING:tensorflow:Importing a function (__inference__wrapped_model_236405) with ops with custom gradients. Will likely fail if a gradient is requested.\n",
      "WARNING:tensorflow:Importing a function (__inference__wrapped_model_236405) with ops with custom gradients. Will likely fail if a gradient is requested.\n",
      "WARNING:tensorflow:Importing a function (__inference__wrapped_model_236405) with ops with custom gradients. Will likely fail if a gradient is requested.\n",
      "WARNING:tensorflow:Importing a function (__inference__wrapped_model_236405) with ops with custom gradients. Will likely fail if a gradient is requested.\n",
      "WARNING:tensorflow:Importing a function (__inference__wrapped_model_236405) with ops with custom gradients. Will likely fail if a gradient is requested.\n",
      "WARNING:tensorflow:Importing a function (__inference__wrapped_model_236405) with ops with custom gradients. Will likely fail if a gradient is requested.\n",
      "WARNING:tensorflow:Importing a function (__inference__wrapped_model_236405) with ops with custom gradients. Will likely fail if a gradient is requested.\n",
      "WARNING:tensorflow:Importing a function (__inference__wrapped_model_236405) with ops with custom gradients. Will likely fail if a gradient is requested.\n",
      "WARNING:tensorflow:Importing a function (__inference__wrapped_model_236405) with ops with custom gradients. Will likely fail if a gradient is requested.\n",
      "WARNING:tensorflow:Importing a function (__inference__wrapped_model_236405) with ops with custom gradients. Will likely fail if a gradient is requested.\n",
      "WARNING:tensorflow:Importing a function (__inference__wrapped_model_236405) with ops with custom gradients. Will likely fail if a gradient is requested.\n",
      "WARNING:tensorflow:Importing a function (__inference__wrapped_model_236405) with ops with custom gradients. Will likely fail if a gradient is requested.\n",
      "WARNING:tensorflow:Importing a function (__inference__wrapped_model_236405) with ops with custom gradients. Will likely fail if a gradient is requested.\n",
      "WARNING:tensorflow:Importing a function (__inference__wrapped_model_236405) with ops with custom gradients. Will likely fail if a gradient is requested.\n"
     ]
    },
    {
     "name": "stdout",
     "output_type": "stream",
     "text": [
      "WARNING:tensorflow:Importing a function (__inference__wrapped_model_236405) with ops with custom gradients. Will likely fail if a gradient is requested.\n",
      "WARNING:tensorflow:Importing a function (__inference__wrapped_model_236405) with ops with custom gradients. Will likely fail if a gradient is requested.\n",
      "WARNING:tensorflow:Importing a function (__inference__wrapped_model_236405) with ops with custom gradients. Will likely fail if a gradient is requested.\n",
      "WARNING:tensorflow:Importing a function (__inference__wrapped_model_236405) with ops with custom gradients. Will likely fail if a gradient is requested.\n",
      "WARNING:tensorflow:Importing a function (__inference__wrapped_model_236405) with ops with custom gradients. Will likely fail if a gradient is requested.\n",
      "WARNING:tensorflow:Importing a function (__inference__wrapped_model_236405) with ops with custom gradients. Will likely fail if a gradient is requested.\n",
      "WARNING:tensorflow:Importing a function (__inference__wrapped_model_236405) with ops with custom gradients. Will likely fail if a gradient is requested.\n",
      "WARNING:tensorflow:Importing a function (__inference__wrapped_model_236405) with ops with custom gradients. Will likely fail if a gradient is requested.\n",
      "WARNING:tensorflow:Importing a function (__inference__wrapped_model_236405) with ops with custom gradients. Will likely fail if a gradient is requested.\n",
      "WARNING:tensorflow:Importing a function (__inference__wrapped_model_236405) with ops with custom gradients. Will likely fail if a gradient is requested.\n",
      "WARNING:tensorflow:Importing a function (__inference__wrapped_model_236405) with ops with custom gradients. Will likely fail if a gradient is requested.\n",
      "WARNING:tensorflow:Importing a function (__inference__wrapped_model_236405) with ops with custom gradients. Will likely fail if a gradient is requested.\n",
      "WARNING:tensorflow:Importing a function (__inference__wrapped_model_236405) with ops with custom gradients. Will likely fail if a gradient is requested.\n",
      "WARNING:tensorflow:Importing a function (__inference__wrapped_model_236405) with ops with custom gradients. Will likely fail if a gradient is requested.\n",
      "WARNING:tensorflow:Importing a function (__inference__wrapped_model_236405) with ops with custom gradients. Will likely fail if a gradient is requested.\n",
      "WARNING:tensorflow:Importing a function (__inference__wrapped_model_236405) with ops with custom gradients. Will likely fail if a gradient is requested.\n",
      "WARNING:tensorflow:Importing a function (__inference__wrapped_model_236405) with ops with custom gradients. Will likely fail if a gradient is requested.\n",
      "WARNING:tensorflow:Importing a function (__inference__wrapped_model_236405) with ops with custom gradients. Will likely fail if a gradient is requested.\n",
      "WARNING:tensorflow:Importing a function (__inference__wrapped_model_236405) with ops with custom gradients. Will likely fail if a gradient is requested.\n",
      "WARNING:tensorflow:Importing a function (__inference__wrapped_model_236405) with ops with custom gradients. Will likely fail if a gradient is requested.\n",
      "WARNING:tensorflow:Importing a function (__inference__wrapped_model_236405) with ops with custom gradients. Will likely fail if a gradient is requested.\n",
      "WARNING:tensorflow:Importing a function (__inference__wrapped_model_236405) with ops with custom gradients. Will likely fail if a gradient is requested.\n",
      "WARNING:tensorflow:Importing a function (__inference__wrapped_model_236405) with ops with custom gradients. Will likely fail if a gradient is requested.\n",
      "WARNING:tensorflow:Importing a function (__inference__wrapped_model_236405) with ops with custom gradients. Will likely fail if a gradient is requested.\n",
      "WARNING:tensorflow:Importing a function (__inference__wrapped_model_236405) with ops with custom gradients. Will likely fail if a gradient is requested.\n",
      "WARNING:tensorflow:Importing a function (__inference__wrapped_model_236405) with ops with custom gradients. Will likely fail if a gradient is requested.\n",
      "WARNING:tensorflow:Importing a function (__inference__wrapped_model_236405) with ops with custom gradients. Will likely fail if a gradient is requested.\n",
      "WARNING:tensorflow:Importing a function (__inference__wrapped_model_236405) with ops with custom gradients. Will likely fail if a gradient is requested.\n",
      "WARNING:tensorflow:Importing a function (__inference__wrapped_model_236405) with ops with custom gradients. Will likely fail if a gradient is requested.\n",
      "WARNING:tensorflow:Importing a function (__inference__wrapped_model_236405) with ops with custom gradients. Will likely fail if a gradient is requested.\n",
      "WARNING:tensorflow:Importing a function (__inference__wrapped_model_236405) with ops with custom gradients. Will likely fail if a gradient is requested.\n",
      "WARNING:tensorflow:Importing a function (__inference__wrapped_model_236405) with ops with custom gradients. Will likely fail if a gradient is requested.\n",
      "WARNING:tensorflow:Importing a function (__inference__wrapped_model_236405) with ops with custom gradients. Will likely fail if a gradient is requested.\n",
      "WARNING:tensorflow:Importing a function (__inference_block4c_expand_activation_layer_call_and_return_conditional_losses_285250) with ops with custom gradients. Will likely fail if a gradient is requested.\n",
      "WARNING:tensorflow:Importing a function (__inference_efficient_net_layer_call_and_return_conditional_losses_271349) with ops with custom gradients. Will likely fail if a gradient is requested.\n",
      "WARNING:tensorflow:Importing a function (__inference_efficient_net_layer_call_and_return_conditional_losses_271349) with ops with custom gradients. Will likely fail if a gradient is requested.\n",
      "WARNING:tensorflow:Importing a function (__inference_efficient_net_layer_call_and_return_conditional_losses_271349) with ops with custom gradients. Will likely fail if a gradient is requested.\n",
      "WARNING:tensorflow:Importing a function (__inference_efficient_net_layer_call_and_return_conditional_losses_271349) with ops with custom gradients. Will likely fail if a gradient is requested.\n",
      "WARNING:tensorflow:Importing a function (__inference_efficient_net_layer_call_and_return_conditional_losses_271349) with ops with custom gradients. Will likely fail if a gradient is requested.\n",
      "WARNING:tensorflow:Importing a function (__inference_efficient_net_layer_call_and_return_conditional_losses_271349) with ops with custom gradients. Will likely fail if a gradient is requested.\n",
      "WARNING:tensorflow:Importing a function (__inference_efficient_net_layer_call_and_return_conditional_losses_271349) with ops with custom gradients. Will likely fail if a gradient is requested.\n",
      "WARNING:tensorflow:Importing a function (__inference_efficient_net_layer_call_and_return_conditional_losses_271349) with ops with custom gradients. Will likely fail if a gradient is requested.\n",
      "WARNING:tensorflow:Importing a function (__inference_efficient_net_layer_call_and_return_conditional_losses_271349) with ops with custom gradients. Will likely fail if a gradient is requested.\n",
      "WARNING:tensorflow:Importing a function (__inference_efficient_net_layer_call_and_return_conditional_losses_271349) with ops with custom gradients. Will likely fail if a gradient is requested.\n",
      "WARNING:tensorflow:Importing a function (__inference_efficient_net_layer_call_and_return_conditional_losses_271349) with ops with custom gradients. Will likely fail if a gradient is requested.\n",
      "WARNING:tensorflow:Importing a function (__inference_efficient_net_layer_call_and_return_conditional_losses_271349) with ops with custom gradients. Will likely fail if a gradient is requested.\n",
      "WARNING:tensorflow:Importing a function (__inference_efficient_net_layer_call_and_return_conditional_losses_271349) with ops with custom gradients. Will likely fail if a gradient is requested.\n",
      "WARNING:tensorflow:Importing a function (__inference_efficient_net_layer_call_and_return_conditional_losses_271349) with ops with custom gradients. Will likely fail if a gradient is requested.\n",
      "WARNING:tensorflow:Importing a function (__inference_efficient_net_layer_call_and_return_conditional_losses_271349) with ops with custom gradients. Will likely fail if a gradient is requested.\n",
      "WARNING:tensorflow:Importing a function (__inference_efficient_net_layer_call_and_return_conditional_losses_271349) with ops with custom gradients. Will likely fail if a gradient is requested.\n"
     ]
    },
    {
     "name": "stdout",
     "output_type": "stream",
     "text": [
      "WARNING:tensorflow:Importing a function (__inference_efficient_net_layer_call_and_return_conditional_losses_271349) with ops with custom gradients. Will likely fail if a gradient is requested.\n",
      "WARNING:tensorflow:Importing a function (__inference_efficient_net_layer_call_and_return_conditional_losses_271349) with ops with custom gradients. Will likely fail if a gradient is requested.\n",
      "WARNING:tensorflow:Importing a function (__inference_efficient_net_layer_call_and_return_conditional_losses_271349) with ops with custom gradients. Will likely fail if a gradient is requested.\n",
      "WARNING:tensorflow:Importing a function (__inference_efficient_net_layer_call_and_return_conditional_losses_271349) with ops with custom gradients. Will likely fail if a gradient is requested.\n",
      "WARNING:tensorflow:Importing a function (__inference_efficient_net_layer_call_and_return_conditional_losses_271349) with ops with custom gradients. Will likely fail if a gradient is requested.\n",
      "WARNING:tensorflow:Importing a function (__inference_efficient_net_layer_call_and_return_conditional_losses_271349) with ops with custom gradients. Will likely fail if a gradient is requested.\n",
      "WARNING:tensorflow:Importing a function (__inference_efficient_net_layer_call_and_return_conditional_losses_271349) with ops with custom gradients. Will likely fail if a gradient is requested.\n",
      "WARNING:tensorflow:Importing a function (__inference_efficient_net_layer_call_and_return_conditional_losses_271349) with ops with custom gradients. Will likely fail if a gradient is requested.\n",
      "WARNING:tensorflow:Importing a function (__inference_efficient_net_layer_call_and_return_conditional_losses_271349) with ops with custom gradients. Will likely fail if a gradient is requested.\n",
      "WARNING:tensorflow:Importing a function (__inference_efficient_net_layer_call_and_return_conditional_losses_271349) with ops with custom gradients. Will likely fail if a gradient is requested.\n",
      "WARNING:tensorflow:Importing a function (__inference_efficient_net_layer_call_and_return_conditional_losses_271349) with ops with custom gradients. Will likely fail if a gradient is requested.\n",
      "WARNING:tensorflow:Importing a function (__inference_efficient_net_layer_call_and_return_conditional_losses_271349) with ops with custom gradients. Will likely fail if a gradient is requested.\n",
      "WARNING:tensorflow:Importing a function (__inference_efficient_net_layer_call_and_return_conditional_losses_271349) with ops with custom gradients. Will likely fail if a gradient is requested.\n",
      "WARNING:tensorflow:Importing a function (__inference_efficient_net_layer_call_and_return_conditional_losses_271349) with ops with custom gradients. Will likely fail if a gradient is requested.\n",
      "WARNING:tensorflow:Importing a function (__inference_efficient_net_layer_call_and_return_conditional_losses_271349) with ops with custom gradients. Will likely fail if a gradient is requested.\n",
      "WARNING:tensorflow:Importing a function (__inference_efficient_net_layer_call_and_return_conditional_losses_271349) with ops with custom gradients. Will likely fail if a gradient is requested.\n",
      "WARNING:tensorflow:Importing a function (__inference_efficient_net_layer_call_and_return_conditional_losses_271349) with ops with custom gradients. Will likely fail if a gradient is requested.\n",
      "WARNING:tensorflow:Importing a function (__inference_efficient_net_layer_call_and_return_conditional_losses_271349) with ops with custom gradients. Will likely fail if a gradient is requested.\n",
      "WARNING:tensorflow:Importing a function (__inference_efficient_net_layer_call_and_return_conditional_losses_271349) with ops with custom gradients. Will likely fail if a gradient is requested.\n",
      "WARNING:tensorflow:Importing a function (__inference_efficient_net_layer_call_and_return_conditional_losses_271349) with ops with custom gradients. Will likely fail if a gradient is requested.\n",
      "WARNING:tensorflow:Importing a function (__inference_efficient_net_layer_call_and_return_conditional_losses_271349) with ops with custom gradients. Will likely fail if a gradient is requested.\n",
      "WARNING:tensorflow:Importing a function (__inference_efficient_net_layer_call_and_return_conditional_losses_271349) with ops with custom gradients. Will likely fail if a gradient is requested.\n",
      "WARNING:tensorflow:Importing a function (__inference_efficient_net_layer_call_and_return_conditional_losses_271349) with ops with custom gradients. Will likely fail if a gradient is requested.\n",
      "WARNING:tensorflow:Importing a function (__inference_efficient_net_layer_call_and_return_conditional_losses_271349) with ops with custom gradients. Will likely fail if a gradient is requested.\n",
      "WARNING:tensorflow:Importing a function (__inference_efficient_net_layer_call_and_return_conditional_losses_271349) with ops with custom gradients. Will likely fail if a gradient is requested.\n",
      "WARNING:tensorflow:Importing a function (__inference_efficient_net_layer_call_and_return_conditional_losses_271349) with ops with custom gradients. Will likely fail if a gradient is requested.\n",
      "WARNING:tensorflow:Importing a function (__inference_efficient_net_layer_call_and_return_conditional_losses_271349) with ops with custom gradients. Will likely fail if a gradient is requested.\n",
      "WARNING:tensorflow:Importing a function (__inference_efficient_net_layer_call_and_return_conditional_losses_271349) with ops with custom gradients. Will likely fail if a gradient is requested.\n",
      "WARNING:tensorflow:Importing a function (__inference_efficient_net_layer_call_and_return_conditional_losses_271349) with ops with custom gradients. Will likely fail if a gradient is requested.\n",
      "WARNING:tensorflow:Importing a function (__inference_efficient_net_layer_call_and_return_conditional_losses_271349) with ops with custom gradients. Will likely fail if a gradient is requested.\n",
      "WARNING:tensorflow:Importing a function (__inference_efficient_net_layer_call_and_return_conditional_losses_271349) with ops with custom gradients. Will likely fail if a gradient is requested.\n",
      "WARNING:tensorflow:Importing a function (__inference_efficient_net_layer_call_and_return_conditional_losses_271349) with ops with custom gradients. Will likely fail if a gradient is requested.\n",
      "WARNING:tensorflow:Importing a function (__inference_efficient_net_layer_call_and_return_conditional_losses_271349) with ops with custom gradients. Will likely fail if a gradient is requested.\n",
      "WARNING:tensorflow:Importing a function (__inference_efficient_net_layer_call_and_return_conditional_losses_271349) with ops with custom gradients. Will likely fail if a gradient is requested.\n",
      "WARNING:tensorflow:Importing a function (__inference_efficient_net_layer_call_and_return_conditional_losses_271349) with ops with custom gradients. Will likely fail if a gradient is requested.\n",
      "WARNING:tensorflow:Importing a function (__inference_efficient_net_layer_call_and_return_conditional_losses_271349) with ops with custom gradients. Will likely fail if a gradient is requested.\n",
      "WARNING:tensorflow:Importing a function (__inference_efficient_net_layer_call_and_return_conditional_losses_271349) with ops with custom gradients. Will likely fail if a gradient is requested.\n",
      "WARNING:tensorflow:Importing a function (__inference_efficient_net_layer_call_and_return_conditional_losses_271349) with ops with custom gradients. Will likely fail if a gradient is requested.\n",
      "WARNING:tensorflow:Importing a function (__inference_efficient_net_layer_call_and_return_conditional_losses_271349) with ops with custom gradients. Will likely fail if a gradient is requested.\n",
      "WARNING:tensorflow:Importing a function (__inference_efficient_net_layer_call_and_return_conditional_losses_271349) with ops with custom gradients. Will likely fail if a gradient is requested.\n",
      "WARNING:tensorflow:Importing a function (__inference_efficient_net_layer_call_and_return_conditional_losses_271349) with ops with custom gradients. Will likely fail if a gradient is requested.\n",
      "WARNING:tensorflow:Importing a function (__inference_efficient_net_layer_call_and_return_conditional_losses_271349) with ops with custom gradients. Will likely fail if a gradient is requested.\n",
      "WARNING:tensorflow:Importing a function (__inference_efficient_net_layer_call_and_return_conditional_losses_271349) with ops with custom gradients. Will likely fail if a gradient is requested.\n"
     ]
    },
    {
     "name": "stdout",
     "output_type": "stream",
     "text": [
      "WARNING:tensorflow:Importing a function (__inference_efficient_net_layer_call_and_return_conditional_losses_271349) with ops with custom gradients. Will likely fail if a gradient is requested.\n",
      "WARNING:tensorflow:Importing a function (__inference_efficient_net_layer_call_and_return_conditional_losses_271349) with ops with custom gradients. Will likely fail if a gradient is requested.\n",
      "WARNING:tensorflow:Importing a function (__inference_efficient_net_layer_call_and_return_conditional_losses_271349) with ops with custom gradients. Will likely fail if a gradient is requested.\n",
      "WARNING:tensorflow:Importing a function (__inference_efficient_net_layer_call_and_return_conditional_losses_271349) with ops with custom gradients. Will likely fail if a gradient is requested.\n",
      "WARNING:tensorflow:Importing a function (__inference_efficient_net_layer_call_and_return_conditional_losses_271349) with ops with custom gradients. Will likely fail if a gradient is requested.\n",
      "WARNING:tensorflow:Importing a function (__inference_efficient_net_layer_call_and_return_conditional_losses_271349) with ops with custom gradients. Will likely fail if a gradient is requested.\n",
      "WARNING:tensorflow:Importing a function (__inference_efficient_net_layer_call_and_return_conditional_losses_271349) with ops with custom gradients. Will likely fail if a gradient is requested.\n",
      "WARNING:tensorflow:Importing a function (__inference_efficient_net_layer_call_and_return_conditional_losses_271349) with ops with custom gradients. Will likely fail if a gradient is requested.\n",
      "WARNING:tensorflow:Importing a function (__inference_efficient_net_layer_call_and_return_conditional_losses_271349) with ops with custom gradients. Will likely fail if a gradient is requested.\n",
      "WARNING:tensorflow:Importing a function (__inference_efficient_net_layer_call_and_return_conditional_losses_271349) with ops with custom gradients. Will likely fail if a gradient is requested.\n",
      "WARNING:tensorflow:Importing a function (__inference_block3c_se_reduce_layer_call_and_return_conditional_losses_283817) with ops with custom gradients. Will likely fail if a gradient is requested.\n",
      "WARNING:tensorflow:Importing a function (__inference_block2b_activation_layer_call_and_return_conditional_losses_281612) with ops with custom gradients. Will likely fail if a gradient is requested.\n",
      "WARNING:tensorflow:Importing a function (__inference_block7b_se_reduce_layer_call_and_return_conditional_losses_291924) with ops with custom gradients. Will likely fail if a gradient is requested.\n",
      "WARNING:tensorflow:Importing a function (__inference_block2b_expand_activation_layer_call_and_return_conditional_losses_245322) with ops with custom gradients. Will likely fail if a gradient is requested.\n",
      "WARNING:tensorflow:Importing a function (__inference_stem_activation_layer_call_and_return_conditional_losses_280061) with ops with custom gradients. Will likely fail if a gradient is requested.\n",
      "WARNING:tensorflow:Importing a function (__inference_block3b_se_reduce_layer_call_and_return_conditional_losses_246729) with ops with custom gradients. Will likely fail if a gradient is requested.\n",
      "WARNING:tensorflow:Importing a function (__inference_block5a_se_reduce_layer_call_and_return_conditional_losses_286535) with ops with custom gradients. Will likely fail if a gradient is requested.\n",
      "WARNING:tensorflow:Importing a function (__inference_block4a_se_reduce_layer_call_and_return_conditional_losses_247610) with ops with custom gradients. Will likely fail if a gradient is requested.\n",
      "WARNING:tensorflow:Importing a function (__inference_block6d_se_reduce_layer_call_and_return_conditional_losses_252292) with ops with custom gradients. Will likely fail if a gradient is requested.\n",
      "WARNING:tensorflow:Importing a function (__inference_block6b_activation_layer_call_and_return_conditional_losses_289166) with ops with custom gradients. Will likely fail if a gradient is requested.\n",
      "WARNING:tensorflow:Importing a function (__inference_block2a_activation_layer_call_and_return_conditional_losses_245027) with ops with custom gradients. Will likely fail if a gradient is requested.\n",
      "WARNING:tensorflow:Importing a function (__inference_top_activation_layer_call_and_return_conditional_losses_253860) with ops with custom gradients. Will likely fail if a gradient is requested.\n",
      "WARNING:tensorflow:Importing a function (__inference_block7a_se_reduce_layer_call_and_return_conditional_losses_291418) with ops with custom gradients. Will likely fail if a gradient is requested.\n",
      "WARNING:tensorflow:Importing a function (__inference_block7b_expand_activation_layer_call_and_return_conditional_losses_291745) with ops with custom gradients. Will likely fail if a gradient is requested.\n",
      "WARNING:tensorflow:Importing a function (__inference_block1b_activation_layer_call_and_return_conditional_losses_244586) with ops with custom gradients. Will likely fail if a gradient is requested.\n",
      "WARNING:tensorflow:Importing a function (__inference_block2c_expand_activation_layer_call_and_return_conditional_losses_282026) with ops with custom gradients. Will likely fail if a gradient is requested.\n",
      "WARNING:tensorflow:Importing a function (__inference_block7a_activation_layer_call_and_return_conditional_losses_291378) with ops with custom gradients. Will likely fail if a gradient is requested.\n",
      "WARNING:tensorflow:Importing a function (__inference_block4a_expand_activation_layer_call_and_return_conditional_losses_284191) with ops with custom gradients. Will likely fail if a gradient is requested.\n",
      "WARNING:tensorflow:Importing a function (__inference_block6d_activation_layer_call_and_return_conditional_losses_290272) with ops with custom gradients. Will likely fail if a gradient is requested.\n",
      "WARNING:tensorflow:Importing a function (__inference_block4a_activation_layer_call_and_return_conditional_losses_247563) with ops with custom gradients. Will likely fail if a gradient is requested.\n",
      "WARNING:tensorflow:Importing a function (__inference_stem_activation_layer_call_and_return_conditional_losses_244215) with ops with custom gradients. Will likely fail if a gradient is requested.\n",
      "WARNING:tensorflow:Importing a function (__inference_block4d_expand_activation_layer_call_and_return_conditional_losses_285803) with ops with custom gradients. Will likely fail if a gradient is requested.\n",
      "WARNING:tensorflow:Importing a function (__inference_block4c_expand_activation_layer_call_and_return_conditional_losses_248298) with ops with custom gradients. Will likely fail if a gradient is requested.\n",
      "WARNING:tensorflow:Importing a function (__inference_block1b_activation_layer_call_and_return_conditional_losses_280553) with ops with custom gradients. Will likely fail if a gradient is requested.\n",
      "WARNING:tensorflow:Importing a function (__inference_block3a_se_reduce_layer_call_and_return_conditional_losses_246342) with ops with custom gradients. Will likely fail if a gradient is requested.\n",
      "WARNING:tensorflow:Importing a function (__inference_block5c_activation_layer_call_and_return_conditional_losses_287554) with ops with custom gradients. Will likely fail if a gradient is requested.\n",
      "WARNING:tensorflow:Importing a function (__inference_block4d_se_reduce_layer_call_and_return_conditional_losses_285982) with ops with custom gradients. Will likely fail if a gradient is requested.\n",
      "WARNING:tensorflow:Importing a function (__inference_block6a_activation_layer_call_and_return_conditional_losses_250978) with ops with custom gradients. Will likely fail if a gradient is requested.\n",
      "WARNING:tensorflow:Importing a function (__inference_block6d_expand_activation_layer_call_and_return_conditional_losses_252153) with ops with custom gradients. Will likely fail if a gradient is requested.\n",
      "WARNING:tensorflow:Importing a function (__inference_block6e_se_reduce_layer_call_and_return_conditional_losses_290865) with ops with custom gradients. Will likely fail if a gradient is requested.\n",
      "WARNING:tensorflow:Importing a function (__inference_block7b_expand_activation_layer_call_and_return_conditional_losses_253420) with ops with custom gradients. Will likely fail if a gradient is requested.\n",
      "WARNING:tensorflow:Importing a function (__inference_block4a_se_reduce_layer_call_and_return_conditional_losses_284370) with ops with custom gradients. Will likely fail if a gradient is requested.\n"
     ]
    },
    {
     "name": "stdout",
     "output_type": "stream",
     "text": [
      "WARNING:tensorflow:Importing a function (__inference_block5c_se_reduce_layer_call_and_return_conditional_losses_250144) with ops with custom gradients. Will likely fail if a gradient is requested.\n",
      "WARNING:tensorflow:Importing a function (__inference_block4d_activation_layer_call_and_return_conditional_losses_248830) with ops with custom gradients. Will likely fail if a gradient is requested.\n",
      "WARNING:tensorflow:Importing a function (__inference_block2a_activation_layer_call_and_return_conditional_losses_281106) with ops with custom gradients. Will likely fail if a gradient is requested.\n",
      "WARNING:tensorflow:Importing a function (__inference_block6c_expand_activation_layer_call_and_return_conditional_losses_251713) with ops with custom gradients. Will likely fail if a gradient is requested.\n",
      "WARNING:tensorflow:Importing a function (__inference_block4b_activation_layer_call_and_return_conditional_losses_247950) with ops with custom gradients. Will likely fail if a gradient is requested.\n",
      "WARNING:tensorflow:Importing a function (__inference_block7b_se_reduce_layer_call_and_return_conditional_losses_253559) with ops with custom gradients. Will likely fail if a gradient is requested.\n",
      "WARNING:tensorflow:Importing a function (__inference_block4d_se_reduce_layer_call_and_return_conditional_losses_248877) with ops with custom gradients. Will likely fail if a gradient is requested.\n",
      "WARNING:tensorflow:Importing a function (__inference_block2b_se_reduce_layer_call_and_return_conditional_losses_245461) with ops with custom gradients. Will likely fail if a gradient is requested.\n",
      "WARNING:tensorflow:Importing a function (__inference_block3a_expand_activation_layer_call_and_return_conditional_losses_282579) with ops with custom gradients. Will likely fail if a gradient is requested.\n",
      "WARNING:tensorflow:Importing a function (__inference_block3a_expand_activation_layer_call_and_return_conditional_losses_246202) with ops with custom gradients. Will likely fail if a gradient is requested.\n",
      "WARNING:tensorflow:Importing a function (__inference_block6e_expand_activation_layer_call_and_return_conditional_losses_290686) with ops with custom gradients. Will likely fail if a gradient is requested.\n",
      "WARNING:tensorflow:Importing a function (__inference_block4b_expand_activation_layer_call_and_return_conditional_losses_247858) with ops with custom gradients. Will likely fail if a gradient is requested.\n",
      "WARNING:tensorflow:Importing a function (__inference_block4b_expand_activation_layer_call_and_return_conditional_losses_284697) with ops with custom gradients. Will likely fail if a gradient is requested.\n",
      "WARNING:tensorflow:Importing a function (__inference_block4c_activation_layer_call_and_return_conditional_losses_285389) with ops with custom gradients. Will likely fail if a gradient is requested.\n",
      "WARNING:tensorflow:Importing a function (__inference_block4b_se_reduce_layer_call_and_return_conditional_losses_284876) with ops with custom gradients. Will likely fail if a gradient is requested.\n",
      "WARNING:tensorflow:Importing a function (__inference_block2a_se_reduce_layer_call_and_return_conditional_losses_281146) with ops with custom gradients. Will likely fail if a gradient is requested.\n",
      "WARNING:tensorflow:Importing a function (__inference_block3c_expand_activation_layer_call_and_return_conditional_losses_247030) with ops with custom gradients. Will likely fail if a gradient is requested.\n",
      "WARNING:tensorflow:Importing a function (__inference_block7b_activation_layer_call_and_return_conditional_losses_253512) with ops with custom gradients. Will likely fail if a gradient is requested.\n",
      "WARNING:tensorflow:Importing a function (__inference_block3c_expand_activation_layer_call_and_return_conditional_losses_283638) with ops with custom gradients. Will likely fail if a gradient is requested.\n",
      "WARNING:tensorflow:Importing a function (__inference_block2c_expand_activation_layer_call_and_return_conditional_losses_245762) with ops with custom gradients. Will likely fail if a gradient is requested.\n",
      "WARNING:tensorflow:Importing a function (__inference_block6e_se_reduce_layer_call_and_return_conditional_losses_252732) with ops with custom gradients. Will likely fail if a gradient is requested.\n",
      "WARNING:tensorflow:Importing a function (__inference_block6c_activation_layer_call_and_return_conditional_losses_251805) with ops with custom gradients. Will likely fail if a gradient is requested.\n",
      "WARNING:tensorflow:Importing a function (__inference_block7a_activation_layer_call_and_return_conditional_losses_253125) with ops with custom gradients. Will likely fail if a gradient is requested.\n",
      "WARNING:tensorflow:Importing a function (__inference_block2b_se_reduce_layer_call_and_return_conditional_losses_281652) with ops with custom gradients. Will likely fail if a gradient is requested.\n",
      "WARNING:tensorflow:Importing a function (__inference_block5d_se_reduce_layer_call_and_return_conditional_losses_288147) with ops with custom gradients. Will likely fail if a gradient is requested.\n",
      "WARNING:tensorflow:Importing a function (__inference_block5c_activation_layer_call_and_return_conditional_losses_250097) with ops with custom gradients. Will likely fail if a gradient is requested.\n",
      "WARNING:tensorflow:Importing a function (__inference_block6a_expand_activation_layer_call_and_return_conditional_losses_250885) with ops with custom gradients. Will likely fail if a gradient is requested.\n",
      "WARNING:tensorflow:Importing a function (__inference_block6e_activation_layer_call_and_return_conditional_losses_290825) with ops with custom gradients. Will likely fail if a gradient is requested.\n",
      "WARNING:tensorflow:Importing a function (__inference_block6c_activation_layer_call_and_return_conditional_losses_289719) with ops with custom gradients. Will likely fail if a gradient is requested.\n",
      "WARNING:tensorflow:Importing a function (__inference_block1a_se_reduce_layer_call_and_return_conditional_losses_280240) with ops with custom gradients. Will likely fail if a gradient is requested.\n",
      "WARNING:tensorflow:Importing a function (__inference_block5d_activation_layer_call_and_return_conditional_losses_288107) with ops with custom gradients. Will likely fail if a gradient is requested.\n",
      "WARNING:tensorflow:Importing a function (__inference_block5b_activation_layer_call_and_return_conditional_losses_287001) with ops with custom gradients. Will likely fail if a gradient is requested.\n",
      "WARNING:tensorflow:Importing a function (__inference_block5c_expand_activation_layer_call_and_return_conditional_losses_287415) with ops with custom gradients. Will likely fail if a gradient is requested.\n",
      "WARNING:tensorflow:Importing a function (__inference_block3a_activation_layer_call_and_return_conditional_losses_282718) with ops with custom gradients. Will likely fail if a gradient is requested.\n",
      "WARNING:tensorflow:Importing a function (__inference_block6e_expand_activation_layer_call_and_return_conditional_losses_252593) with ops with custom gradients. Will likely fail if a gradient is requested.\n",
      "WARNING:tensorflow:Importing a function (__inference_block3a_se_reduce_layer_call_and_return_conditional_losses_282758) with ops with custom gradients. Will likely fail if a gradient is requested.\n",
      "WARNING:tensorflow:Importing a function (__inference_block4a_expand_activation_layer_call_and_return_conditional_losses_247470) with ops with custom gradients. Will likely fail if a gradient is requested.\n",
      "WARNING:tensorflow:Importing a function (__inference_block7b_activation_layer_call_and_return_conditional_losses_291884) with ops with custom gradients. Will likely fail if a gradient is requested.\n",
      "WARNING:tensorflow:Importing a function (__inference_block6a_activation_layer_call_and_return_conditional_losses_288660) with ops with custom gradients. Will likely fail if a gradient is requested.\n",
      "WARNING:tensorflow:Importing a function (__inference_block2a_expand_activation_layer_call_and_return_conditional_losses_244934) with ops with custom gradients. Will likely fail if a gradient is requested.\n",
      "WARNING:tensorflow:Importing a function (__inference_top_activation_layer_call_and_return_conditional_losses_292298) with ops with custom gradients. Will likely fail if a gradient is requested.\n"
     ]
    },
    {
     "name": "stdout",
     "output_type": "stream",
     "text": [
      "WARNING:tensorflow:Importing a function (__inference_block4b_se_reduce_layer_call_and_return_conditional_losses_247997) with ops with custom gradients. Will likely fail if a gradient is requested.\n",
      "WARNING:tensorflow:Importing a function (__inference_block3b_activation_layer_call_and_return_conditional_losses_246682) with ops with custom gradients. Will likely fail if a gradient is requested.\n",
      "WARNING:tensorflow:Importing a function (__inference_efficientnetb2_layer_call_and_return_conditional_losses_277963) with ops with custom gradients. Will likely fail if a gradient is requested.\n",
      "WARNING:tensorflow:Importing a function (__inference_efficientnetb2_layer_call_and_return_conditional_losses_277963) with ops with custom gradients. Will likely fail if a gradient is requested.\n",
      "WARNING:tensorflow:Importing a function (__inference_efficientnetb2_layer_call_and_return_conditional_losses_277963) with ops with custom gradients. Will likely fail if a gradient is requested.\n",
      "WARNING:tensorflow:Importing a function (__inference_efficientnetb2_layer_call_and_return_conditional_losses_277963) with ops with custom gradients. Will likely fail if a gradient is requested.\n",
      "WARNING:tensorflow:Importing a function (__inference_efficientnetb2_layer_call_and_return_conditional_losses_277963) with ops with custom gradients. Will likely fail if a gradient is requested.\n",
      "WARNING:tensorflow:Importing a function (__inference_efficientnetb2_layer_call_and_return_conditional_losses_277963) with ops with custom gradients. Will likely fail if a gradient is requested.\n",
      "WARNING:tensorflow:Importing a function (__inference_efficientnetb2_layer_call_and_return_conditional_losses_277963) with ops with custom gradients. Will likely fail if a gradient is requested.\n",
      "WARNING:tensorflow:Importing a function (__inference_efficientnetb2_layer_call_and_return_conditional_losses_277963) with ops with custom gradients. Will likely fail if a gradient is requested.\n",
      "WARNING:tensorflow:Importing a function (__inference_efficientnetb2_layer_call_and_return_conditional_losses_277963) with ops with custom gradients. Will likely fail if a gradient is requested.\n",
      "WARNING:tensorflow:Importing a function (__inference_efficientnetb2_layer_call_and_return_conditional_losses_277963) with ops with custom gradients. Will likely fail if a gradient is requested.\n",
      "WARNING:tensorflow:Importing a function (__inference_efficientnetb2_layer_call_and_return_conditional_losses_277963) with ops with custom gradients. Will likely fail if a gradient is requested.\n",
      "WARNING:tensorflow:Importing a function (__inference_efficientnetb2_layer_call_and_return_conditional_losses_277963) with ops with custom gradients. Will likely fail if a gradient is requested.\n",
      "WARNING:tensorflow:Importing a function (__inference_efficientnetb2_layer_call_and_return_conditional_losses_277963) with ops with custom gradients. Will likely fail if a gradient is requested.\n",
      "WARNING:tensorflow:Importing a function (__inference_efficientnetb2_layer_call_and_return_conditional_losses_277963) with ops with custom gradients. Will likely fail if a gradient is requested.\n",
      "WARNING:tensorflow:Importing a function (__inference_efficientnetb2_layer_call_and_return_conditional_losses_277963) with ops with custom gradients. Will likely fail if a gradient is requested.\n",
      "WARNING:tensorflow:Importing a function (__inference_efficientnetb2_layer_call_and_return_conditional_losses_277963) with ops with custom gradients. Will likely fail if a gradient is requested.\n",
      "WARNING:tensorflow:Importing a function (__inference_efficientnetb2_layer_call_and_return_conditional_losses_277963) with ops with custom gradients. Will likely fail if a gradient is requested.\n",
      "WARNING:tensorflow:Importing a function (__inference_efficientnetb2_layer_call_and_return_conditional_losses_277963) with ops with custom gradients. Will likely fail if a gradient is requested.\n",
      "WARNING:tensorflow:Importing a function (__inference_efficientnetb2_layer_call_and_return_conditional_losses_277963) with ops with custom gradients. Will likely fail if a gradient is requested.\n",
      "WARNING:tensorflow:Importing a function (__inference_efficientnetb2_layer_call_and_return_conditional_losses_277963) with ops with custom gradients. Will likely fail if a gradient is requested.\n",
      "WARNING:tensorflow:Importing a function (__inference_efficientnetb2_layer_call_and_return_conditional_losses_277963) with ops with custom gradients. Will likely fail if a gradient is requested.\n",
      "WARNING:tensorflow:Importing a function (__inference_efficientnetb2_layer_call_and_return_conditional_losses_277963) with ops with custom gradients. Will likely fail if a gradient is requested.\n",
      "WARNING:tensorflow:Importing a function (__inference_efficientnetb2_layer_call_and_return_conditional_losses_277963) with ops with custom gradients. Will likely fail if a gradient is requested.\n",
      "WARNING:tensorflow:Importing a function (__inference_efficientnetb2_layer_call_and_return_conditional_losses_277963) with ops with custom gradients. Will likely fail if a gradient is requested.\n",
      "WARNING:tensorflow:Importing a function (__inference_efficientnetb2_layer_call_and_return_conditional_losses_277963) with ops with custom gradients. Will likely fail if a gradient is requested.\n",
      "WARNING:tensorflow:Importing a function (__inference_efficientnetb2_layer_call_and_return_conditional_losses_277963) with ops with custom gradients. Will likely fail if a gradient is requested.\n",
      "WARNING:tensorflow:Importing a function (__inference_efficientnetb2_layer_call_and_return_conditional_losses_277963) with ops with custom gradients. Will likely fail if a gradient is requested.\n",
      "WARNING:tensorflow:Importing a function (__inference_efficientnetb2_layer_call_and_return_conditional_losses_277963) with ops with custom gradients. Will likely fail if a gradient is requested.\n",
      "WARNING:tensorflow:Importing a function (__inference_efficientnetb2_layer_call_and_return_conditional_losses_277963) with ops with custom gradients. Will likely fail if a gradient is requested.\n",
      "WARNING:tensorflow:Importing a function (__inference_efficientnetb2_layer_call_and_return_conditional_losses_277963) with ops with custom gradients. Will likely fail if a gradient is requested.\n",
      "WARNING:tensorflow:Importing a function (__inference_efficientnetb2_layer_call_and_return_conditional_losses_277963) with ops with custom gradients. Will likely fail if a gradient is requested.\n",
      "WARNING:tensorflow:Importing a function (__inference_efficientnetb2_layer_call_and_return_conditional_losses_277963) with ops with custom gradients. Will likely fail if a gradient is requested.\n",
      "WARNING:tensorflow:Importing a function (__inference_efficientnetb2_layer_call_and_return_conditional_losses_277963) with ops with custom gradients. Will likely fail if a gradient is requested.\n",
      "WARNING:tensorflow:Importing a function (__inference_efficientnetb2_layer_call_and_return_conditional_losses_277963) with ops with custom gradients. Will likely fail if a gradient is requested.\n",
      "WARNING:tensorflow:Importing a function (__inference_efficientnetb2_layer_call_and_return_conditional_losses_277963) with ops with custom gradients. Will likely fail if a gradient is requested.\n",
      "WARNING:tensorflow:Importing a function (__inference_efficientnetb2_layer_call_and_return_conditional_losses_277963) with ops with custom gradients. Will likely fail if a gradient is requested.\n",
      "WARNING:tensorflow:Importing a function (__inference_efficientnetb2_layer_call_and_return_conditional_losses_277963) with ops with custom gradients. Will likely fail if a gradient is requested.\n",
      "WARNING:tensorflow:Importing a function (__inference_efficientnetb2_layer_call_and_return_conditional_losses_277963) with ops with custom gradients. Will likely fail if a gradient is requested.\n",
      "WARNING:tensorflow:Importing a function (__inference_efficientnetb2_layer_call_and_return_conditional_losses_277963) with ops with custom gradients. Will likely fail if a gradient is requested.\n",
      "WARNING:tensorflow:Importing a function (__inference_efficientnetb2_layer_call_and_return_conditional_losses_277963) with ops with custom gradients. Will likely fail if a gradient is requested.\n",
      "WARNING:tensorflow:Importing a function (__inference_efficientnetb2_layer_call_and_return_conditional_losses_277963) with ops with custom gradients. Will likely fail if a gradient is requested.\n"
     ]
    },
    {
     "name": "stdout",
     "output_type": "stream",
     "text": [
      "WARNING:tensorflow:Importing a function (__inference_efficientnetb2_layer_call_and_return_conditional_losses_277963) with ops with custom gradients. Will likely fail if a gradient is requested.\n",
      "WARNING:tensorflow:Importing a function (__inference_efficientnetb2_layer_call_and_return_conditional_losses_277963) with ops with custom gradients. Will likely fail if a gradient is requested.\n",
      "WARNING:tensorflow:Importing a function (__inference_efficientnetb2_layer_call_and_return_conditional_losses_277963) with ops with custom gradients. Will likely fail if a gradient is requested.\n",
      "WARNING:tensorflow:Importing a function (__inference_efficientnetb2_layer_call_and_return_conditional_losses_277963) with ops with custom gradients. Will likely fail if a gradient is requested.\n",
      "WARNING:tensorflow:Importing a function (__inference_efficientnetb2_layer_call_and_return_conditional_losses_277963) with ops with custom gradients. Will likely fail if a gradient is requested.\n",
      "WARNING:tensorflow:Importing a function (__inference_efficientnetb2_layer_call_and_return_conditional_losses_277963) with ops with custom gradients. Will likely fail if a gradient is requested.\n",
      "WARNING:tensorflow:Importing a function (__inference_efficientnetb2_layer_call_and_return_conditional_losses_277963) with ops with custom gradients. Will likely fail if a gradient is requested.\n",
      "WARNING:tensorflow:Importing a function (__inference_efficientnetb2_layer_call_and_return_conditional_losses_277963) with ops with custom gradients. Will likely fail if a gradient is requested.\n",
      "WARNING:tensorflow:Importing a function (__inference_efficientnetb2_layer_call_and_return_conditional_losses_277963) with ops with custom gradients. Will likely fail if a gradient is requested.\n",
      "WARNING:tensorflow:Importing a function (__inference_efficientnetb2_layer_call_and_return_conditional_losses_277963) with ops with custom gradients. Will likely fail if a gradient is requested.\n",
      "WARNING:tensorflow:Importing a function (__inference_efficientnetb2_layer_call_and_return_conditional_losses_277963) with ops with custom gradients. Will likely fail if a gradient is requested.\n",
      "WARNING:tensorflow:Importing a function (__inference_efficientnetb2_layer_call_and_return_conditional_losses_277963) with ops with custom gradients. Will likely fail if a gradient is requested.\n",
      "WARNING:tensorflow:Importing a function (__inference_efficientnetb2_layer_call_and_return_conditional_losses_277963) with ops with custom gradients. Will likely fail if a gradient is requested.\n",
      "WARNING:tensorflow:Importing a function (__inference_efficientnetb2_layer_call_and_return_conditional_losses_277963) with ops with custom gradients. Will likely fail if a gradient is requested.\n",
      "WARNING:tensorflow:Importing a function (__inference_efficientnetb2_layer_call_and_return_conditional_losses_277963) with ops with custom gradients. Will likely fail if a gradient is requested.\n",
      "WARNING:tensorflow:Importing a function (__inference_efficientnetb2_layer_call_and_return_conditional_losses_277963) with ops with custom gradients. Will likely fail if a gradient is requested.\n",
      "WARNING:tensorflow:Importing a function (__inference_efficientnetb2_layer_call_and_return_conditional_losses_277963) with ops with custom gradients. Will likely fail if a gradient is requested.\n",
      "WARNING:tensorflow:Importing a function (__inference_efficientnetb2_layer_call_and_return_conditional_losses_277963) with ops with custom gradients. Will likely fail if a gradient is requested.\n",
      "WARNING:tensorflow:Importing a function (__inference_efficientnetb2_layer_call_and_return_conditional_losses_277963) with ops with custom gradients. Will likely fail if a gradient is requested.\n",
      "WARNING:tensorflow:Importing a function (__inference_efficientnetb2_layer_call_and_return_conditional_losses_277963) with ops with custom gradients. Will likely fail if a gradient is requested.\n",
      "WARNING:tensorflow:Importing a function (__inference_efficientnetb2_layer_call_and_return_conditional_losses_277963) with ops with custom gradients. Will likely fail if a gradient is requested.\n",
      "WARNING:tensorflow:Importing a function (__inference_efficientnetb2_layer_call_and_return_conditional_losses_277963) with ops with custom gradients. Will likely fail if a gradient is requested.\n",
      "WARNING:tensorflow:Importing a function (__inference_efficientnetb2_layer_call_and_return_conditional_losses_277963) with ops with custom gradients. Will likely fail if a gradient is requested.\n",
      "WARNING:tensorflow:Importing a function (__inference_efficientnetb2_layer_call_and_return_conditional_losses_277963) with ops with custom gradients. Will likely fail if a gradient is requested.\n",
      "WARNING:tensorflow:Importing a function (__inference_efficientnetb2_layer_call_and_return_conditional_losses_277963) with ops with custom gradients. Will likely fail if a gradient is requested.\n",
      "WARNING:tensorflow:Importing a function (__inference_efficientnetb2_layer_call_and_return_conditional_losses_277963) with ops with custom gradients. Will likely fail if a gradient is requested.\n",
      "WARNING:tensorflow:Importing a function (__inference_efficientnetb2_layer_call_and_return_conditional_losses_277963) with ops with custom gradients. Will likely fail if a gradient is requested.\n",
      "WARNING:tensorflow:Importing a function (__inference_efficientnetb2_layer_call_and_return_conditional_losses_277963) with ops with custom gradients. Will likely fail if a gradient is requested.\n",
      "WARNING:tensorflow:Importing a function (__inference_block3b_se_reduce_layer_call_and_return_conditional_losses_283264) with ops with custom gradients. Will likely fail if a gradient is requested.\n",
      "WARNING:tensorflow:Importing a function (__inference_block2b_activation_layer_call_and_return_conditional_losses_245414) with ops with custom gradients. Will likely fail if a gradient is requested.\n",
      "WARNING:tensorflow:Importing a function (__inference_block5d_se_reduce_layer_call_and_return_conditional_losses_250584) with ops with custom gradients. Will likely fail if a gradient is requested.\n",
      "WARNING:tensorflow:Importing a function (__inference_block6d_se_reduce_layer_call_and_return_conditional_losses_290312) with ops with custom gradients. Will likely fail if a gradient is requested.\n",
      "WARNING:tensorflow:Importing a function (__inference_block5a_se_reduce_layer_call_and_return_conditional_losses_249317) with ops with custom gradients. Will likely fail if a gradient is requested.\n",
      "WARNING:tensorflow:Importing a function (__inference_block1b_se_reduce_layer_call_and_return_conditional_losses_280593) with ops with custom gradients. Will likely fail if a gradient is requested.\n",
      "WARNING:tensorflow:Importing a function (__inference_block4d_expand_activation_layer_call_and_return_conditional_losses_248738) with ops with custom gradients. Will likely fail if a gradient is requested.\n",
      "WARNING:tensorflow:Importing a function (__inference_block7a_expand_activation_layer_call_and_return_conditional_losses_253033) with ops with custom gradients. Will likely fail if a gradient is requested.\n",
      "WARNING:tensorflow:Importing a function (__inference_block5b_expand_activation_layer_call_and_return_conditional_losses_286862) with ops with custom gradients. Will likely fail if a gradient is requested.\n",
      "WARNING:tensorflow:Importing a function (__inference_block4c_se_reduce_layer_call_and_return_conditional_losses_285429) with ops with custom gradients. Will likely fail if a gradient is requested.\n",
      "WARNING:tensorflow:Importing a function (__inference_block7a_expand_activation_layer_call_and_return_conditional_losses_291239) with ops with custom gradients. Will likely fail if a gradient is requested.\n",
      "WARNING:tensorflow:Importing a function (__inference_block5a_expand_activation_layer_call_and_return_conditional_losses_249178) with ops with custom gradients. Will likely fail if a gradient is requested.\n",
      "WARNING:tensorflow:Importing a function (__inference_block2a_se_reduce_layer_call_and_return_conditional_losses_245074) with ops with custom gradients. Will likely fail if a gradient is requested.\n",
      "WARNING:tensorflow:Importing a function (__inference_block6a_se_reduce_layer_call_and_return_conditional_losses_288700) with ops with custom gradients. Will likely fail if a gradient is requested.\n"
     ]
    },
    {
     "name": "stdout",
     "output_type": "stream",
     "text": [
      "WARNING:tensorflow:Importing a function (__inference_efficient_net_layer_call_and_return_conditional_losses_269020) with ops with custom gradients. Will likely fail if a gradient is requested.\n",
      "WARNING:tensorflow:Importing a function (__inference_efficient_net_layer_call_and_return_conditional_losses_269020) with ops with custom gradients. Will likely fail if a gradient is requested.\n",
      "WARNING:tensorflow:Importing a function (__inference_efficient_net_layer_call_and_return_conditional_losses_269020) with ops with custom gradients. Will likely fail if a gradient is requested.\n",
      "WARNING:tensorflow:Importing a function (__inference_efficient_net_layer_call_and_return_conditional_losses_269020) with ops with custom gradients. Will likely fail if a gradient is requested.\n",
      "WARNING:tensorflow:Importing a function (__inference_efficient_net_layer_call_and_return_conditional_losses_269020) with ops with custom gradients. Will likely fail if a gradient is requested.\n",
      "WARNING:tensorflow:Importing a function (__inference_efficient_net_layer_call_and_return_conditional_losses_269020) with ops with custom gradients. Will likely fail if a gradient is requested.\n",
      "WARNING:tensorflow:Importing a function (__inference_efficient_net_layer_call_and_return_conditional_losses_269020) with ops with custom gradients. Will likely fail if a gradient is requested.\n",
      "WARNING:tensorflow:Importing a function (__inference_efficient_net_layer_call_and_return_conditional_losses_269020) with ops with custom gradients. Will likely fail if a gradient is requested.\n",
      "WARNING:tensorflow:Importing a function (__inference_efficient_net_layer_call_and_return_conditional_losses_269020) with ops with custom gradients. Will likely fail if a gradient is requested.\n",
      "WARNING:tensorflow:Importing a function (__inference_efficient_net_layer_call_and_return_conditional_losses_269020) with ops with custom gradients. Will likely fail if a gradient is requested.\n",
      "WARNING:tensorflow:Importing a function (__inference_efficient_net_layer_call_and_return_conditional_losses_269020) with ops with custom gradients. Will likely fail if a gradient is requested.\n",
      "WARNING:tensorflow:Importing a function (__inference_efficient_net_layer_call_and_return_conditional_losses_269020) with ops with custom gradients. Will likely fail if a gradient is requested.\n",
      "WARNING:tensorflow:Importing a function (__inference_efficient_net_layer_call_and_return_conditional_losses_269020) with ops with custom gradients. Will likely fail if a gradient is requested.\n",
      "WARNING:tensorflow:Importing a function (__inference_efficient_net_layer_call_and_return_conditional_losses_269020) with ops with custom gradients. Will likely fail if a gradient is requested.\n",
      "WARNING:tensorflow:Importing a function (__inference_efficient_net_layer_call_and_return_conditional_losses_269020) with ops with custom gradients. Will likely fail if a gradient is requested.\n",
      "WARNING:tensorflow:Importing a function (__inference_efficient_net_layer_call_and_return_conditional_losses_269020) with ops with custom gradients. Will likely fail if a gradient is requested.\n",
      "WARNING:tensorflow:Importing a function (__inference_efficient_net_layer_call_and_return_conditional_losses_269020) with ops with custom gradients. Will likely fail if a gradient is requested.\n",
      "WARNING:tensorflow:Importing a function (__inference_efficient_net_layer_call_and_return_conditional_losses_269020) with ops with custom gradients. Will likely fail if a gradient is requested.\n",
      "WARNING:tensorflow:Importing a function (__inference_efficient_net_layer_call_and_return_conditional_losses_269020) with ops with custom gradients. Will likely fail if a gradient is requested.\n",
      "WARNING:tensorflow:Importing a function (__inference_efficient_net_layer_call_and_return_conditional_losses_269020) with ops with custom gradients. Will likely fail if a gradient is requested.\n",
      "WARNING:tensorflow:Importing a function (__inference_efficient_net_layer_call_and_return_conditional_losses_269020) with ops with custom gradients. Will likely fail if a gradient is requested.\n",
      "WARNING:tensorflow:Importing a function (__inference_efficient_net_layer_call_and_return_conditional_losses_269020) with ops with custom gradients. Will likely fail if a gradient is requested.\n",
      "WARNING:tensorflow:Importing a function (__inference_efficient_net_layer_call_and_return_conditional_losses_269020) with ops with custom gradients. Will likely fail if a gradient is requested.\n",
      "WARNING:tensorflow:Importing a function (__inference_efficient_net_layer_call_and_return_conditional_losses_269020) with ops with custom gradients. Will likely fail if a gradient is requested.\n",
      "WARNING:tensorflow:Importing a function (__inference_efficient_net_layer_call_and_return_conditional_losses_269020) with ops with custom gradients. Will likely fail if a gradient is requested.\n",
      "WARNING:tensorflow:Importing a function (__inference_efficient_net_layer_call_and_return_conditional_losses_269020) with ops with custom gradients. Will likely fail if a gradient is requested.\n",
      "WARNING:tensorflow:Importing a function (__inference_efficient_net_layer_call_and_return_conditional_losses_269020) with ops with custom gradients. Will likely fail if a gradient is requested.\n",
      "WARNING:tensorflow:Importing a function (__inference_efficient_net_layer_call_and_return_conditional_losses_269020) with ops with custom gradients. Will likely fail if a gradient is requested.\n",
      "WARNING:tensorflow:Importing a function (__inference_efficient_net_layer_call_and_return_conditional_losses_269020) with ops with custom gradients. Will likely fail if a gradient is requested.\n",
      "WARNING:tensorflow:Importing a function (__inference_efficient_net_layer_call_and_return_conditional_losses_269020) with ops with custom gradients. Will likely fail if a gradient is requested.\n",
      "WARNING:tensorflow:Importing a function (__inference_efficient_net_layer_call_and_return_conditional_losses_269020) with ops with custom gradients. Will likely fail if a gradient is requested.\n",
      "WARNING:tensorflow:Importing a function (__inference_efficient_net_layer_call_and_return_conditional_losses_269020) with ops with custom gradients. Will likely fail if a gradient is requested.\n",
      "WARNING:tensorflow:Importing a function (__inference_efficient_net_layer_call_and_return_conditional_losses_269020) with ops with custom gradients. Will likely fail if a gradient is requested.\n",
      "WARNING:tensorflow:Importing a function (__inference_efficient_net_layer_call_and_return_conditional_losses_269020) with ops with custom gradients. Will likely fail if a gradient is requested.\n",
      "WARNING:tensorflow:Importing a function (__inference_efficient_net_layer_call_and_return_conditional_losses_269020) with ops with custom gradients. Will likely fail if a gradient is requested.\n",
      "WARNING:tensorflow:Importing a function (__inference_efficient_net_layer_call_and_return_conditional_losses_269020) with ops with custom gradients. Will likely fail if a gradient is requested.\n",
      "WARNING:tensorflow:Importing a function (__inference_efficient_net_layer_call_and_return_conditional_losses_269020) with ops with custom gradients. Will likely fail if a gradient is requested.\n",
      "WARNING:tensorflow:Importing a function (__inference_efficient_net_layer_call_and_return_conditional_losses_269020) with ops with custom gradients. Will likely fail if a gradient is requested.\n",
      "WARNING:tensorflow:Importing a function (__inference_efficient_net_layer_call_and_return_conditional_losses_269020) with ops with custom gradients. Will likely fail if a gradient is requested.\n",
      "WARNING:tensorflow:Importing a function (__inference_efficient_net_layer_call_and_return_conditional_losses_269020) with ops with custom gradients. Will likely fail if a gradient is requested.\n",
      "WARNING:tensorflow:Importing a function (__inference_efficient_net_layer_call_and_return_conditional_losses_269020) with ops with custom gradients. Will likely fail if a gradient is requested.\n",
      "WARNING:tensorflow:Importing a function (__inference_efficient_net_layer_call_and_return_conditional_losses_269020) with ops with custom gradients. Will likely fail if a gradient is requested.\n",
      "WARNING:tensorflow:Importing a function (__inference_efficient_net_layer_call_and_return_conditional_losses_269020) with ops with custom gradients. Will likely fail if a gradient is requested.\n"
     ]
    },
    {
     "name": "stdout",
     "output_type": "stream",
     "text": [
      "WARNING:tensorflow:Importing a function (__inference_efficient_net_layer_call_and_return_conditional_losses_269020) with ops with custom gradients. Will likely fail if a gradient is requested.\n",
      "WARNING:tensorflow:Importing a function (__inference_efficient_net_layer_call_and_return_conditional_losses_269020) with ops with custom gradients. Will likely fail if a gradient is requested.\n",
      "WARNING:tensorflow:Importing a function (__inference_efficient_net_layer_call_and_return_conditional_losses_269020) with ops with custom gradients. Will likely fail if a gradient is requested.\n",
      "WARNING:tensorflow:Importing a function (__inference_efficient_net_layer_call_and_return_conditional_losses_269020) with ops with custom gradients. Will likely fail if a gradient is requested.\n",
      "WARNING:tensorflow:Importing a function (__inference_efficient_net_layer_call_and_return_conditional_losses_269020) with ops with custom gradients. Will likely fail if a gradient is requested.\n",
      "WARNING:tensorflow:Importing a function (__inference_efficient_net_layer_call_and_return_conditional_losses_269020) with ops with custom gradients. Will likely fail if a gradient is requested.\n",
      "WARNING:tensorflow:Importing a function (__inference_efficient_net_layer_call_and_return_conditional_losses_269020) with ops with custom gradients. Will likely fail if a gradient is requested.\n",
      "WARNING:tensorflow:Importing a function (__inference_efficient_net_layer_call_and_return_conditional_losses_269020) with ops with custom gradients. Will likely fail if a gradient is requested.\n",
      "WARNING:tensorflow:Importing a function (__inference_efficient_net_layer_call_and_return_conditional_losses_269020) with ops with custom gradients. Will likely fail if a gradient is requested.\n",
      "WARNING:tensorflow:Importing a function (__inference_efficient_net_layer_call_and_return_conditional_losses_269020) with ops with custom gradients. Will likely fail if a gradient is requested.\n",
      "WARNING:tensorflow:Importing a function (__inference_efficient_net_layer_call_and_return_conditional_losses_269020) with ops with custom gradients. Will likely fail if a gradient is requested.\n",
      "WARNING:tensorflow:Importing a function (__inference_efficient_net_layer_call_and_return_conditional_losses_269020) with ops with custom gradients. Will likely fail if a gradient is requested.\n",
      "WARNING:tensorflow:Importing a function (__inference_efficient_net_layer_call_and_return_conditional_losses_269020) with ops with custom gradients. Will likely fail if a gradient is requested.\n",
      "WARNING:tensorflow:Importing a function (__inference_efficient_net_layer_call_and_return_conditional_losses_269020) with ops with custom gradients. Will likely fail if a gradient is requested.\n",
      "WARNING:tensorflow:Importing a function (__inference_efficient_net_layer_call_and_return_conditional_losses_269020) with ops with custom gradients. Will likely fail if a gradient is requested.\n",
      "WARNING:tensorflow:Importing a function (__inference_efficient_net_layer_call_and_return_conditional_losses_269020) with ops with custom gradients. Will likely fail if a gradient is requested.\n",
      "WARNING:tensorflow:Importing a function (__inference_efficient_net_layer_call_and_return_conditional_losses_269020) with ops with custom gradients. Will likely fail if a gradient is requested.\n",
      "WARNING:tensorflow:Importing a function (__inference_efficient_net_layer_call_and_return_conditional_losses_269020) with ops with custom gradients. Will likely fail if a gradient is requested.\n",
      "WARNING:tensorflow:Importing a function (__inference_efficient_net_layer_call_and_return_conditional_losses_269020) with ops with custom gradients. Will likely fail if a gradient is requested.\n",
      "WARNING:tensorflow:Importing a function (__inference_efficient_net_layer_call_and_return_conditional_losses_269020) with ops with custom gradients. Will likely fail if a gradient is requested.\n",
      "WARNING:tensorflow:Importing a function (__inference_efficient_net_layer_call_and_return_conditional_losses_269020) with ops with custom gradients. Will likely fail if a gradient is requested.\n",
      "WARNING:tensorflow:Importing a function (__inference_efficient_net_layer_call_and_return_conditional_losses_269020) with ops with custom gradients. Will likely fail if a gradient is requested.\n",
      "WARNING:tensorflow:Importing a function (__inference_efficient_net_layer_call_and_return_conditional_losses_269020) with ops with custom gradients. Will likely fail if a gradient is requested.\n",
      "WARNING:tensorflow:Importing a function (__inference_efficient_net_layer_call_and_return_conditional_losses_269020) with ops with custom gradients. Will likely fail if a gradient is requested.\n",
      "WARNING:tensorflow:Importing a function (__inference_efficient_net_layer_call_and_return_conditional_losses_269020) with ops with custom gradients. Will likely fail if a gradient is requested.\n",
      "WARNING:tensorflow:Importing a function (__inference_efficient_net_layer_call_and_return_conditional_losses_269020) with ops with custom gradients. Will likely fail if a gradient is requested.\n",
      "WARNING:tensorflow:Importing a function (__inference_block5d_expand_activation_layer_call_and_return_conditional_losses_250445) with ops with custom gradients. Will likely fail if a gradient is requested.\n",
      "WARNING:tensorflow:Importing a function (__inference_block5a_activation_layer_call_and_return_conditional_losses_286495) with ops with custom gradients. Will likely fail if a gradient is requested.\n",
      "WARNING:tensorflow:Importing a function (__inference_block2c_se_reduce_layer_call_and_return_conditional_losses_245901) with ops with custom gradients. Will likely fail if a gradient is requested.\n",
      "WARNING:tensorflow:Importing a function (__inference_block6b_se_reduce_layer_call_and_return_conditional_losses_289206) with ops with custom gradients. Will likely fail if a gradient is requested.\n",
      "WARNING:tensorflow:Importing a function (__inference_block5b_expand_activation_layer_call_and_return_conditional_losses_249565) with ops with custom gradients. Will likely fail if a gradient is requested.\n",
      "WARNING:tensorflow:Importing a function (__inference_block4a_activation_layer_call_and_return_conditional_losses_284330) with ops with custom gradients. Will likely fail if a gradient is requested.\n",
      "WARNING:tensorflow:Importing a function (__inference_block5c_expand_activation_layer_call_and_return_conditional_losses_250005) with ops with custom gradients. Will likely fail if a gradient is requested.\n",
      "WARNING:tensorflow:Importing a function (__inference_block5d_expand_activation_layer_call_and_return_conditional_losses_287968) with ops with custom gradients. Will likely fail if a gradient is requested.\n",
      "WARNING:tensorflow:Importing a function (__inference_block5d_activation_layer_call_and_return_conditional_losses_250537) with ops with custom gradients. Will likely fail if a gradient is requested.\n",
      "WARNING:tensorflow:Importing a function (__inference_block6c_se_reduce_layer_call_and_return_conditional_losses_289759) with ops with custom gradients. Will likely fail if a gradient is requested.\n",
      "WARNING:tensorflow:Importing a function (__inference_block4b_activation_layer_call_and_return_conditional_losses_284836) with ops with custom gradients. Will likely fail if a gradient is requested.\n",
      "WARNING:tensorflow:Importing a function (__inference_block4c_se_reduce_layer_call_and_return_conditional_losses_248437) with ops with custom gradients. Will likely fail if a gradient is requested.\n",
      "WARNING:tensorflow:Importing a function (__inference_block6c_expand_activation_layer_call_and_return_conditional_losses_289580) with ops with custom gradients. Will likely fail if a gradient is requested.\n",
      "WARNING:tensorflow:Importing a function (__inference_block2c_se_reduce_layer_call_and_return_conditional_losses_282205) with ops with custom gradients. Will likely fail if a gradient is requested.\n",
      "WARNING:tensorflow:Importing a function (__inference_block3b_expand_activation_layer_call_and_return_conditional_losses_283085) with ops with custom gradients. Will likely fail if a gradient is requested.\n",
      "WARNING:tensorflow:Importing a function (__inference_block5b_se_reduce_layer_call_and_return_conditional_losses_287041) with ops with custom gradients. Will likely fail if a gradient is requested.\n"
     ]
    },
    {
     "name": "stdout",
     "output_type": "stream",
     "text": [
      "WARNING:tensorflow:Importing a function (__inference_block3a_activation_layer_call_and_return_conditional_losses_246295) with ops with custom gradients. Will likely fail if a gradient is requested.\n",
      "WARNING:tensorflow:Importing a function (__inference_block2c_activation_layer_call_and_return_conditional_losses_245854) with ops with custom gradients. Will likely fail if a gradient is requested.\n",
      "Predictions saved to 'results/predictions/predictions-eff_net.csv'.\n"
     ]
    }
   ],
   "source": [
    "%run predict.py --enet-type eff_net "
   ]
  },
  {
   "cell_type": "code",
   "execution_count": 2,
   "id": "8655c436",
   "metadata": {},
   "outputs": [
    {
     "name": "stdout",
     "output_type": "stream",
     "text": [
      "Batch size: 32\n",
      "\n",
      "Train data:\n",
      "Found 13656 files belonging to 2 classes.\n",
      "\n",
      "Test data:\n",
      "Found 1537 files belonging to 2 classes.\n",
      "Predictions saved to 'results/predictions/predictions-vgg16.csv'.\n"
     ]
    }
   ],
   "source": [
    "%run predict.py --enet-type vgg16"
   ]
  },
  {
   "cell_type": "markdown",
   "id": "a7ebacac",
   "metadata": {},
   "source": [
    "# Ensemble"
   ]
  },
  {
   "cell_type": "code",
   "execution_count": 5,
   "id": "f098afe4",
   "metadata": {
    "scrolled": true
   },
   "outputs": [
    {
     "name": "stdout",
     "output_type": "stream",
     "text": [
      "Predicted ensembled class labels saved to 'results/predictions/ensembled_labels.csv'.\n",
      "Predicted ensembled class probabilities saved to 'results/predictions/ensembled_probs.csv'.\n"
     ]
    }
   ],
   "source": [
    "%run ensemble.py"
   ]
  },
  {
   "cell_type": "markdown",
   "id": "131ddb5b",
   "metadata": {},
   "source": [
    "# Evaluate"
   ]
  },
  {
   "cell_type": "code",
   "execution_count": 6,
   "id": "02b8788d",
   "metadata": {},
   "outputs": [
    {
     "name": "stdout",
     "output_type": "stream",
     "text": [
      "Batch size: 32\n",
      "\n",
      "Train data:\n",
      "Found 13656 files belonging to 2 classes.\n",
      "\n",
      "Test data:\n",
      "Found 1537 files belonging to 2 classes.\n",
      "\n",
      "Confusion matrix:\n",
      "[[1343   13]\n",
      " [ 159   22]]\n",
      "\n",
      "AUC score: 0.8174758389152366\n",
      "\n",
      "Accuracy: 0.8880936890045543\n",
      "\n",
      "Classification report:\n",
      "              precision    recall  f1-score   support\n",
      "\n",
      "         0.0       0.89      0.99      0.94      1356\n",
      "         1.0       0.63      0.12      0.20       181\n",
      "\n",
      "    accuracy                           0.89      1537\n",
      "   macro avg       0.76      0.56      0.57      1537\n",
      "weighted avg       0.86      0.89      0.85      1537\n",
      "\n"
     ]
    },
    {
     "data": {
      "image/png": "[encoded data removed]",
      "text/plain": [
       "<Figure size 432x288 with 1 Axes>"
      ]
     },
     "metadata": {
      "needs_background": "light"
     },
     "output_type": "display_data"
    }
   ],
   "source": [
    "%run evaluate.py"
   ]
  },
  {
   "cell_type": "markdown",
   "id": "3e7b9f16",
   "metadata": {},
   "source": [
    "### Version checking"
   ]
  },
  {
   "cell_type": "code",
   "execution_count": 2,
   "id": "70de5282",
   "metadata": {},
   "outputs": [
    {
     "name": "stdout",
     "output_type": "stream",
     "text": [
      "tensorflow==2.3.0\n",
      "sklearn==0.24.1\n",
      "pandas==1.1.5\n",
      "numpy==1.18.5\n",
      "re==2.2.1\n",
      "matplotlib==3.3.4\n"
     ]
    }
   ],
   "source": [
    "\n",
    "import tensorflow, sklearn, pandas, numpy, re, matplotlib\n",
    "\n",
    "print(\"tensorflow==\" + tensorflow.__version__)\n",
    "print(\"sklearn==\" + sklearn.__version__)\n",
    "print(\"pandas==\" + pandas.__version__)\n",
    "print(\"numpy==\" + numpy.__version__)\n",
    "print(\"re==\" + re.__version__)\n",
    "print(\"matplotlib==\" + matplotlib.__version__)\n"
   ]
  },
  {
   "cell_type": "code",
   "execution_count": null,
   "id": "e3a90801",
   "metadata": {},
   "outputs": [],
   "source": []
  }
 ],
 "metadata": {
  "kernelspec": {
   "display_name": "conda_tensorflow2_p36",
   "language": "python",
   "name": "conda_tensorflow2_p36"
  },
  "language_info": {
   "codemirror_mode": {
    "name": "ipython",
    "version": 3
   },
   "file_extension": ".py",
   "mimetype": "text/x-python",
   "name": "python",
   "nbconvert_exporter": "python",
   "pygments_lexer": "ipython3",
   "version": "3.6.13"
  }
 },
 "nbformat": 4,
 "nbformat_minor": 5
}
